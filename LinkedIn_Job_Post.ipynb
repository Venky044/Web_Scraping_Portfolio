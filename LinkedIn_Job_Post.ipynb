{
 "cells": [
  {
   "cell_type": "markdown",
   "id": "6d7963e2",
   "metadata": {},
   "source": [
    "## Scrapping job details from the LinkedIn job portal"
   ]
  },
  {
   "cell_type": "code",
   "execution_count": 1,
   "id": "de3e9367",
   "metadata": {},
   "outputs": [],
   "source": [
    "# importing modules\n",
    "import pandas as pd\n",
    "from selenium import webdriver\n",
    "from selenium.webdriver.common.by import By\n",
    "from selenium.webdriver.common.keys import Keys\n",
    "from selenium.webdriver.support.ui import WebDriverWait\n",
    "from selenium.webdriver.support import expected_conditions as EC\n",
    "import time"
   ]
  },
  {
   "cell_type": "code",
   "execution_count": 2,
   "id": "60ed056a",
   "metadata": {},
   "outputs": [],
   "source": [
    "# Set up the web driver (provide the path to your Firefox web driver)\n",
    "chrome_options = webdriver.FirefoxOptions()\n",
    "\n",
    "chrome_options.add_argument(\"--window-size=1920x1080\")\n",
    "chrome_options.add_argument(\"--disable-notifications\")\n",
    "chrome_options.add_argument(\"--no-sandbox\")\n",
    "chrome_options.add_argument(\"--verbose\")\n",
    "chrome_options.add_argument(\"--disable-gpu\")\n",
    "chrome_options.add_argument(\"--disable-software-rasterizer\")\n",
    "\n",
    "driver = webdriver.Firefox(options=chrome_options)\n",
    "\n",
    "driver.get(\"https://www.linkedin.com/\")"
   ]
  },
  {
   "cell_type": "code",
   "execution_count": 3,
   "id": "aacbe6b4",
   "metadata": {},
   "outputs": [],
   "source": [
    "# Navigation the Job post page by click job_icon link in the home page\n",
    "job_icon = driver.find_element(By.XPATH, \"/html/body/nav/ul/li[4]/a\")\n",
    "job_icon.click()"
   ]
  },
  {
   "cell_type": "code",
   "execution_count": 4,
   "id": "63e93203",
   "metadata": {},
   "outputs": [],
   "source": [
    "# Searching jobs by it's title and perticular location\n",
    "job_title = driver.find_element(By.XPATH, \"//input[@id='job-search-bar-keywords']\")\n",
    "job_location = driver.find_element(By.XPATH, \"//input[@id='job-search-bar-location']\")\n",
    "search_button = driver.find_element(By.XPATH, \"/html/body/div[1]/header/nav/section/section[2]/form/button\")"
   ]
  },
  {
   "cell_type": "code",
   "execution_count": 5,
   "id": "c338b0bb",
   "metadata": {},
   "outputs": [],
   "source": [
    "# sending keys to website\n",
    "job_title.send_keys('Data Analyst')\n",
    "\n",
    "clear_existing_job_title = driver.find_element(By.XPATH, \"/html/body/div[1]/header/nav/section/section[2]/form/section[2]/button\")\n",
    "clear_existing_job_title.click()\n",
    "\n",
    "time.sleep(1)\n",
    "job_location.send_keys('India')\n",
    "\n",
    "search_button.click()"
   ]
  },
  {
   "cell_type": "code",
   "execution_count": null,
   "id": "29bb6828",
   "metadata": {},
   "outputs": [],
   "source": []
  },
  {
   "cell_type": "code",
   "execution_count": 16,
   "id": "1d813c71",
   "metadata": {},
   "outputs": [],
   "source": [
    "# Set pandas display options\n",
    "pd.set_option('display.max_columns', None)\n",
    "pd.set_option('display.max_colwidth', None)\n",
    "\n",
    "# Initialize an empty list to store dictionaries\n",
    "data_list = []\n",
    "\n",
    "# collecting all job post from the current page\n",
    "job_post = driver.find_elements(By.XPATH, \"//ul[@class='jobs-search__results-list']//li\")\n",
    "\n",
    "for single_post in job_post:\n",
    "    j_title = single_post.find_element(By.CLASS_NAME, \"base-search-card__title\").text\n",
    "    j_company = single_post.find_element(By.CLASS_NAME, \"base-search-card__subtitle\").text\n",
    "    j_location = single_post.find_element(By.CLASS_NAME, \"job-search-card__location\").text\n",
    "    j_url = single_post.find_element(By.TAG_NAME, 'a').get_attribute('href')\n",
    "    \n",
    "    data_list.append({'Title':j_title, 'Company':j_company, 'Location':j_location, 'URL':j_url})\n",
    "    \n",
    "\n",
    "# Create the DataFrame by concatenating the list of dictionaries\n",
    "df = pd.DataFrame(data_list)"
   ]
  },
  {
   "cell_type": "code",
   "execution_count": 17,
   "id": "41ea10af",
   "metadata": {},
   "outputs": [
    {
     "data": {
      "text/plain": [
       "25"
      ]
     },
     "execution_count": 17,
     "metadata": {},
     "output_type": "execute_result"
    }
   ],
   "source": [
    "len(df)"
   ]
  },
  {
   "cell_type": "code",
   "execution_count": 18,
   "id": "20dd36ed",
   "metadata": {},
   "outputs": [
    {
     "data": {
      "text/plain": [
       "Index(['Title', 'Company', 'Location', 'URL'], dtype='object')"
      ]
     },
     "execution_count": 18,
     "metadata": {},
     "output_type": "execute_result"
    }
   ],
   "source": [
    "df.columns"
   ]
  },
  {
   "cell_type": "code",
   "execution_count": 20,
   "id": "03cdad80",
   "metadata": {},
   "outputs": [
    {
     "data": {
      "text/html": [
       "<div>\n",
       "<style scoped>\n",
       "    .dataframe tbody tr th:only-of-type {\n",
       "        vertical-align: middle;\n",
       "    }\n",
       "\n",
       "    .dataframe tbody tr th {\n",
       "        vertical-align: top;\n",
       "    }\n",
       "\n",
       "    .dataframe thead th {\n",
       "        text-align: right;\n",
       "    }\n",
       "</style>\n",
       "<table border=\"1\" class=\"dataframe\">\n",
       "  <thead>\n",
       "    <tr style=\"text-align: right;\">\n",
       "      <th></th>\n",
       "      <th>Title</th>\n",
       "      <th>Company</th>\n",
       "      <th>Location</th>\n",
       "      <th>URL</th>\n",
       "    </tr>\n",
       "  </thead>\n",
       "  <tbody>\n",
       "  </tbody>\n",
       "</table>\n",
       "</div>"
      ],
      "text/plain": [
       "Empty DataFrame\n",
       "Columns: [Title, Company, Location, URL]\n",
       "Index: []"
      ]
     },
     "execution_count": 20,
     "metadata": {},
     "output_type": "execute_result"
    }
   ],
   "source": [
    "# checking duplicate data\n",
    "df[df.duplicated()]"
   ]
  },
  {
   "cell_type": "code",
   "execution_count": 21,
   "id": "c245d9e7",
   "metadata": {},
   "outputs": [
    {
     "data": {
      "text/html": [
       "<div>\n",
       "<style scoped>\n",
       "    .dataframe tbody tr th:only-of-type {\n",
       "        vertical-align: middle;\n",
       "    }\n",
       "\n",
       "    .dataframe tbody tr th {\n",
       "        vertical-align: top;\n",
       "    }\n",
       "\n",
       "    .dataframe thead th {\n",
       "        text-align: right;\n",
       "    }\n",
       "</style>\n",
       "<table border=\"1\" class=\"dataframe\">\n",
       "  <thead>\n",
       "    <tr style=\"text-align: right;\">\n",
       "      <th></th>\n",
       "      <th>Title</th>\n",
       "      <th>Company</th>\n",
       "      <th>Location</th>\n",
       "      <th>URL</th>\n",
       "    </tr>\n",
       "  </thead>\n",
       "  <tbody>\n",
       "    <tr>\n",
       "      <th>21</th>\n",
       "      <td>Data Analyst</td>\n",
       "      <td>Acme Services</td>\n",
       "      <td>Mumbai, Maharashtra, India</td>\n",
       "      <td>https://in.linkedin.com/jobs/view/data-analyst-at-acme-services-3724222511?refId=QF1dT2XBzw%2BEWz18Bf1cRg%3D%3D&amp;trackingId=iDMKoKM7qY8%2FBnHY6RANiQ%3D%3D&amp;position=22&amp;pageNum=0&amp;trk=public_jobs_jserp-result_search-card</td>\n",
       "    </tr>\n",
       "    <tr>\n",
       "      <th>19</th>\n",
       "      <td>BI and Data Analyst (Tableau, SQL)</td>\n",
       "      <td>Workday</td>\n",
       "      <td>Pune, Maharashtra, India</td>\n",
       "      <td>https://in.linkedin.com/jobs/view/bi-and-data-analyst-tableau-sql-at-workday-3744707740?refId=QF1dT2XBzw%2BEWz18Bf1cRg%3D%3D&amp;trackingId=XCCozveHPdza1Ywl3nVMVw%3D%3D&amp;position=20&amp;pageNum=0&amp;trk=public_jobs_jserp-result_search-card</td>\n",
       "    </tr>\n",
       "    <tr>\n",
       "      <th>18</th>\n",
       "      <td>Data Analyst - Pune</td>\n",
       "      <td>ConveGenius</td>\n",
       "      <td>Pune, Maharashtra, India</td>\n",
       "      <td>https://in.linkedin.com/jobs/view/data-analyst-pune-at-convegenius-3741759955?refId=QF1dT2XBzw%2BEWz18Bf1cRg%3D%3D&amp;trackingId=325WyNv4SeuMy3sqyQ%2FN0Q%3D%3D&amp;position=19&amp;pageNum=0&amp;trk=public_jobs_jserp-result_search-card</td>\n",
       "    </tr>\n",
       "    <tr>\n",
       "      <th>15</th>\n",
       "      <td>Data Analyst – Service Now</td>\n",
       "      <td>Generis Tek Inc</td>\n",
       "      <td>Hyderabad, Telangana, India</td>\n",
       "      <td>https://in.linkedin.com/jobs/view/data-analyst-%E2%80%93-service-now-at-generis-tek-inc-3720204536?refId=QF1dT2XBzw%2BEWz18Bf1cRg%3D%3D&amp;trackingId=QnFRmuHvZ%2BqTE6l16at7GA%3D%3D&amp;position=16&amp;pageNum=0&amp;trk=public_jobs_jserp-result_search-card</td>\n",
       "    </tr>\n",
       "    <tr>\n",
       "      <th>17</th>\n",
       "      <td>Data Analyst – Supply Chain- Power BI</td>\n",
       "      <td>Dubai Jobs, Gulf Jobs, Jobs in Dubai, Qatar, Kuwait - Boyen Haddin &amp; The Giant HR Consultant</td>\n",
       "      <td>Pune/Pimpri-Chinchwad Area</td>\n",
       "      <td>https://in.linkedin.com/jobs/view/data-analyst-%E2%80%93-supply-chain-power-bi-at-dubai-jobs-gulf-jobs-jobs-in-dubai-qatar-kuwait-boyen-haddin-the-giant-hr-consultant-3734512087?refId=QF1dT2XBzw%2BEWz18Bf1cRg%3D%3D&amp;trackingId=WlqnbyT2Ws4zZLTwku%2FKOQ%3D%3D&amp;position=18&amp;pageNum=0&amp;trk=public_jobs_jserp-result_search-card</td>\n",
       "    </tr>\n",
       "  </tbody>\n",
       "</table>\n",
       "</div>"
      ],
      "text/plain": [
       "                                    Title  \\\n",
       "21                           Data Analyst   \n",
       "19     BI and Data Analyst (Tableau, SQL)   \n",
       "18                    Data Analyst - Pune   \n",
       "15             Data Analyst – Service Now   \n",
       "17  Data Analyst – Supply Chain- Power BI   \n",
       "\n",
       "                                                                                         Company  \\\n",
       "21                                                                                 Acme Services   \n",
       "19                                                                                       Workday   \n",
       "18                                                                                   ConveGenius   \n",
       "15                                                                               Generis Tek Inc   \n",
       "17  Dubai Jobs, Gulf Jobs, Jobs in Dubai, Qatar, Kuwait - Boyen Haddin & The Giant HR Consultant   \n",
       "\n",
       "                       Location  \\\n",
       "21   Mumbai, Maharashtra, India   \n",
       "19     Pune, Maharashtra, India   \n",
       "18     Pune, Maharashtra, India   \n",
       "15  Hyderabad, Telangana, India   \n",
       "17   Pune/Pimpri-Chinchwad Area   \n",
       "\n",
       "                                                                                                                                                                                                                                                                                                                                URL  \n",
       "21                                                                                                         https://in.linkedin.com/jobs/view/data-analyst-at-acme-services-3724222511?refId=QF1dT2XBzw%2BEWz18Bf1cRg%3D%3D&trackingId=iDMKoKM7qY8%2FBnHY6RANiQ%3D%3D&position=22&pageNum=0&trk=public_jobs_jserp-result_search-card  \n",
       "19                                                                                              https://in.linkedin.com/jobs/view/bi-and-data-analyst-tableau-sql-at-workday-3744707740?refId=QF1dT2XBzw%2BEWz18Bf1cRg%3D%3D&trackingId=XCCozveHPdza1Ywl3nVMVw%3D%3D&position=20&pageNum=0&trk=public_jobs_jserp-result_search-card  \n",
       "18                                                                                                      https://in.linkedin.com/jobs/view/data-analyst-pune-at-convegenius-3741759955?refId=QF1dT2XBzw%2BEWz18Bf1cRg%3D%3D&trackingId=325WyNv4SeuMy3sqyQ%2FN0Q%3D%3D&position=19&pageNum=0&trk=public_jobs_jserp-result_search-card  \n",
       "15                                                                                 https://in.linkedin.com/jobs/view/data-analyst-%E2%80%93-service-now-at-generis-tek-inc-3720204536?refId=QF1dT2XBzw%2BEWz18Bf1cRg%3D%3D&trackingId=QnFRmuHvZ%2BqTE6l16at7GA%3D%3D&position=16&pageNum=0&trk=public_jobs_jserp-result_search-card  \n",
       "17  https://in.linkedin.com/jobs/view/data-analyst-%E2%80%93-supply-chain-power-bi-at-dubai-jobs-gulf-jobs-jobs-in-dubai-qatar-kuwait-boyen-haddin-the-giant-hr-consultant-3734512087?refId=QF1dT2XBzw%2BEWz18Bf1cRg%3D%3D&trackingId=WlqnbyT2Ws4zZLTwku%2FKOQ%3D%3D&position=18&pageNum=0&trk=public_jobs_jserp-result_search-card  "
      ]
     },
     "execution_count": 21,
     "metadata": {},
     "output_type": "execute_result"
    }
   ],
   "source": [
    "df.sample(5)"
   ]
  },
  {
   "cell_type": "code",
   "execution_count": null,
   "id": "53d5d81b",
   "metadata": {},
   "outputs": [],
   "source": []
  },
  {
   "cell_type": "code",
   "execution_count": null,
   "id": "11a27004",
   "metadata": {},
   "outputs": [],
   "source": [
    "# storing data in to excel file\n",
    "df.to_excel('LinkedIn_Job_Post.xlsx', index=False)"
   ]
  },
  {
   "cell_type": "code",
   "execution_count": null,
   "id": "6b9fa9b8",
   "metadata": {},
   "outputs": [],
   "source": []
  },
  {
   "cell_type": "code",
   "execution_count": 22,
   "id": "fdbc31d7",
   "metadata": {},
   "outputs": [],
   "source": [
    "# Clossing the web driver\n",
    "driver.quit()"
   ]
  },
  {
   "cell_type": "code",
   "execution_count": null,
   "id": "4491debe",
   "metadata": {},
   "outputs": [],
   "source": []
  },
  {
   "cell_type": "code",
   "execution_count": null,
   "id": "55a873f5",
   "metadata": {},
   "outputs": [],
   "source": []
  },
  {
   "cell_type": "markdown",
   "id": "c6df92f1",
   "metadata": {},
   "source": [
    "### Rough work"
   ]
  },
  {
   "cell_type": "code",
   "execution_count": null,
   "id": "97cfdc2f",
   "metadata": {},
   "outputs": [],
   "source": [
    "ul_li = \"//ul[@class='jobs-search__results-list']//li\""
   ]
  },
  {
   "cell_type": "code",
   "execution_count": 6,
   "id": "f53a8b01",
   "metadata": {},
   "outputs": [],
   "source": [
    "ar = driver.find_elements(By.XPATH, \"//ul[@class='jobs-search__results-list']//li\")"
   ]
  },
  {
   "cell_type": "code",
   "execution_count": 7,
   "id": "ad383604",
   "metadata": {},
   "outputs": [
    {
     "data": {
      "text/plain": [
       "25"
      ]
     },
     "execution_count": 7,
     "metadata": {},
     "output_type": "execute_result"
    }
   ],
   "source": [
    "len(ar)"
   ]
  },
  {
   "cell_type": "code",
   "execution_count": 9,
   "id": "f07103c4",
   "metadata": {},
   "outputs": [],
   "source": [
    "s_ar = ar[0]"
   ]
  },
  {
   "cell_type": "code",
   "execution_count": 10,
   "id": "fcabe009",
   "metadata": {},
   "outputs": [
    {
     "data": {
      "text/plain": [
       "'DATA ANALYST (SQL,Python, Aws)'"
      ]
     },
     "execution_count": 10,
     "metadata": {},
     "output_type": "execute_result"
    }
   ],
   "source": [
    "s_ar.find_element(By.TAG_NAME, \"h3\").text"
   ]
  },
  {
   "cell_type": "code",
   "execution_count": 11,
   "id": "b07e595f",
   "metadata": {},
   "outputs": [
    {
     "data": {
      "text/plain": [
       "'DATA ANALYST (SQL,Python, Aws)'"
      ]
     },
     "execution_count": 11,
     "metadata": {},
     "output_type": "execute_result"
    }
   ],
   "source": [
    "s_ar.find_element(By.CLASS_NAME, \"base-search-card__title\").text"
   ]
  },
  {
   "cell_type": "code",
   "execution_count": 12,
   "id": "de3b186b",
   "metadata": {},
   "outputs": [
    {
     "data": {
      "text/plain": [
       "'Coforge'"
      ]
     },
     "execution_count": 12,
     "metadata": {},
     "output_type": "execute_result"
    }
   ],
   "source": [
    "s_ar.find_element(By.CLASS_NAME, \"base-search-card__subtitle\").text"
   ]
  },
  {
   "cell_type": "code",
   "execution_count": 14,
   "id": "68cb37c6",
   "metadata": {},
   "outputs": [
    {
     "data": {
      "text/plain": [
       "'Bengaluru, Karnataka, India'"
      ]
     },
     "execution_count": 14,
     "metadata": {},
     "output_type": "execute_result"
    }
   ],
   "source": [
    "s_ar.find_element(By.CLASS_NAME, \"job-search-card__location\").text"
   ]
  },
  {
   "cell_type": "code",
   "execution_count": 15,
   "id": "7b737f05",
   "metadata": {},
   "outputs": [
    {
     "data": {
      "text/plain": [
       "'https://in.linkedin.com/jobs/view/data-analyst-sql-python-aws-at-coforge-3743390893?refId=QF1dT2XBzw%2BEWz18Bf1cRg%3D%3D&trackingId=NGk1K1dGUqruTLxWW%2By%2F1g%3D%3D&position=1&pageNum=0&trk=public_jobs_jserp-result_search-card'"
      ]
     },
     "execution_count": 15,
     "metadata": {},
     "output_type": "execute_result"
    }
   ],
   "source": [
    "s_ar.find_element(By.TAG_NAME, 'a').get_attribute('href')"
   ]
  },
  {
   "cell_type": "code",
   "execution_count": null,
   "id": "6fa52a02",
   "metadata": {},
   "outputs": [],
   "source": []
  }
 ],
 "metadata": {
  "kernelspec": {
   "display_name": "Python 3 (ipykernel)",
   "language": "python",
   "name": "python3"
  },
  "language_info": {
   "codemirror_mode": {
    "name": "ipython",
    "version": 3
   },
   "file_extension": ".py",
   "mimetype": "text/x-python",
   "name": "python",
   "nbconvert_exporter": "python",
   "pygments_lexer": "ipython3",
   "version": "3.9.13"
  }
 },
 "nbformat": 4,
 "nbformat_minor": 5
}
