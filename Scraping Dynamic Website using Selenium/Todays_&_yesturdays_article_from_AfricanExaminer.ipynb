{
 "cells": [
  {
   "cell_type": "markdown",
   "id": "a1bbd292",
   "metadata": {},
   "source": [
    "### Scrapping todays & yesturdays article on multiple pages of the African Examiner website by searching for the  country-name(or any keyword)."
   ]
  },
  {
   "cell_type": "code",
   "execution_count": 1,
   "id": "6b119143",
   "metadata": {},
   "outputs": [],
   "source": [
    "# importing modules\n",
    "import pandas as pd\n",
    "from selenium import webdriver\n",
    "from selenium.webdriver.common.by import By\n",
    "from selenium.webdriver.common.keys import Keys\n",
    "from selenium.webdriver.support.ui import WebDriverWait\n",
    "from selenium.webdriver.support import expected_conditions as EC\n",
    "import datetime\n",
    "from datetime import date, timedelta, datetime\n",
    "import time\n",
    "import re"
   ]
  },
  {
   "cell_type": "code",
   "execution_count": 2,
   "id": "23d85fed",
   "metadata": {},
   "outputs": [],
   "source": [
    "# Set up the web driver (provide the path to your Firefox web driver)\n",
    "chrome_options = webdriver.FirefoxOptions()\n",
    "\n",
    "chrome_options.add_argument(\"--window-size=1920x1080\")\n",
    "chrome_options.add_argument(\"--disable-notifications\")\n",
    "chrome_options.add_argument(\"--no-sandbox\")\n",
    "chrome_options.add_argument(\"--verbose\")\n",
    "chrome_options.add_argument(\"--disable-gpu\")\n",
    "chrome_options.add_argument(\"--disable-software-rasterizer\")\n",
    "\n",
    "driver = webdriver.Firefox(options=chrome_options)\n",
    "\n",
    "driver.get(\"https://www.africanexaminer.com/\")"
   ]
  },
  {
   "cell_type": "code",
   "execution_count": 3,
   "id": "2bf7c677",
   "metadata": {},
   "outputs": [],
   "source": [
    "# Get the input elements\n",
    "search_input = driver.find_element(By.XPATH, \"//input[@id='s']\")\n",
    "search_button = driver.find_element(By.XPATH, \"//input[@id='searchsubmit']\")"
   ]
  },
  {
   "cell_type": "code",
   "execution_count": 4,
   "id": "dac426fc",
   "metadata": {},
   "outputs": [],
   "source": [
    "# Send the input to the webpage\n",
    "search_input.send_keys('nigeria')\n",
    "time.sleep(1)\n",
    "search_button.click()"
   ]
  },
  {
   "cell_type": "code",
   "execution_count": null,
   "id": "72006a4d",
   "metadata": {},
   "outputs": [],
   "source": []
  },
  {
   "cell_type": "code",
   "execution_count": 7,
   "id": "54edbb28",
   "metadata": {},
   "outputs": [],
   "source": [
    "# Define today's date and yesterday's date\n",
    "today = date.today()\n",
    "yesterday = today - timedelta(days=1)\n",
    "\n",
    "# This function will Check if the article date is within the desired date range\n",
    "def post_date_check(post_date):\n",
    "    # Extract the date\n",
    "    date_match = re.search(r'(\\w+),\\s(\\w+)\\s(\\d{1,2}(?:st|nd|rd|th)),\\s(\\d{4})', post_date)\n",
    "    \n",
    "    if date_match:\n",
    "        day_name, month_name, day_with_suffix, year = date_match.groups()\n",
    "        # Use a regular expression to extract the day without suffix\n",
    "        day = int(re.search(r'\\d+', day_with_suffix).group())\n",
    "        month_map = {\n",
    "            'January': 1, 'February': 2, 'March': 3, 'April': 4, 'May': 5, 'June': 6,\n",
    "            'July': 7, 'August': 8, 'September': 9, 'October': 10, 'November': 11, 'December': 12\n",
    "        }\n",
    "        month = month_map.get(month_name)\n",
    "        article_date = datetime(int(year), month, day).date()\n",
    "\n",
    "        if article_date == today or article_date == yesterday:\n",
    "            return True\n",
    "        else:\n",
    "            return False"
   ]
  },
  {
   "cell_type": "code",
   "execution_count": 23,
   "id": "5be5caa9",
   "metadata": {},
   "outputs": [],
   "source": [
    "# list for store the articles url\n",
    "todays_and_yesturdays_article_urls = []\n",
    "\n",
    "# Scrapping articles url from 'Latest-news' section\n",
    "Latest_news = driver.find_elements(By.XPATH, \"//ul[@class='mid-cat']//a\")\n",
    "\n",
    "for i in Latest_news:\n",
    "    todays_and_yesturdays_article_urls.append(i.get_attribute(\"href\"))\n"
   ]
  },
  {
   "cell_type": "code",
   "execution_count": 26,
   "id": "70015b65",
   "metadata": {},
   "outputs": [],
   "source": [
    "# Scrapping articles with pagination\n",
    "new_articles = True\n",
    "\n",
    "# Loop through the pages\n",
    "while new_articles:\n",
    "    \n",
    "    # Scrolling down to load more search results\n",
    "    for _ in range(5):\n",
    "        driver.execute_script(\"window.scrollTo(0, document.body.scrollHeight);\")\n",
    "        time.sleep(3)\n",
    "    \n",
    "    # collecting all articles from the current page\n",
    "    article_list = driver.find_elements(By.CLASS_NAME, \"post\")\n",
    "    \n",
    "    # Extract the URLs of today's and yesterday's articles \n",
    "    for article in article_list:\n",
    "        # Extract the date\n",
    "        date_text = article.find_element(By.CLASS_NAME, \"postdate\").text\n",
    "        date_match = post_date_check(date_text)\n",
    "\n",
    "        if date_match:\n",
    "            a_link = article.find_element(By.TAG_NAME, \"a\").get_attribute(\"href\")\n",
    "            todays_and_yesturdays_article_urls.append(a_link)\n",
    "        else:\n",
    "            new_articles = False\n",
    "            break\n",
    "        \n",
    "    # Find and click the pagination link for the next page\n",
    "    try:\n",
    "        next_page_link = driver.find_element(By.XPATH, \"//div[@class='navigation']/a[contains(text(), 'Next Page')]\")\n",
    "        next_page_link.click()\n",
    "    except NoSuchElementException:\n",
    "        print(\"No 'Next Page' link found. Exiting the loop.\")\n",
    "        break  # Exit the loop if there is no \"Next Page\" link"
   ]
  },
  {
   "cell_type": "code",
   "execution_count": 43,
   "id": "cff54859",
   "metadata": {},
   "outputs": [
    {
     "data": {
      "text/plain": [
       "14"
      ]
     },
     "execution_count": 43,
     "metadata": {},
     "output_type": "execute_result"
    }
   ],
   "source": [
    "len(todays_and_yesturdays_article_urls)"
   ]
  },
  {
   "cell_type": "code",
   "execution_count": 44,
   "id": "7863f90d",
   "metadata": {},
   "outputs": [
    {
     "name": "stderr",
     "output_type": "stream",
     "text": [
      "C:\\Users\\Admin\\AppData\\Local\\Temp\\ipykernel_4312\\3963198717.py:22: FutureWarning: The frame.append method is deprecated and will be removed from pandas in a future version. Use pandas.concat instead.\n",
      "  df = df.append({\"Headline\": headline, \"Author\": author, \"Post_date\": post_date, \"Content\": content}, ignore_index=True)\n",
      "C:\\Users\\Admin\\AppData\\Local\\Temp\\ipykernel_4312\\3963198717.py:22: FutureWarning: The frame.append method is deprecated and will be removed from pandas in a future version. Use pandas.concat instead.\n",
      "  df = df.append({\"Headline\": headline, \"Author\": author, \"Post_date\": post_date, \"Content\": content}, ignore_index=True)\n",
      "C:\\Users\\Admin\\AppData\\Local\\Temp\\ipykernel_4312\\3963198717.py:22: FutureWarning: The frame.append method is deprecated and will be removed from pandas in a future version. Use pandas.concat instead.\n",
      "  df = df.append({\"Headline\": headline, \"Author\": author, \"Post_date\": post_date, \"Content\": content}, ignore_index=True)\n",
      "C:\\Users\\Admin\\AppData\\Local\\Temp\\ipykernel_4312\\3963198717.py:22: FutureWarning: The frame.append method is deprecated and will be removed from pandas in a future version. Use pandas.concat instead.\n",
      "  df = df.append({\"Headline\": headline, \"Author\": author, \"Post_date\": post_date, \"Content\": content}, ignore_index=True)\n",
      "C:\\Users\\Admin\\AppData\\Local\\Temp\\ipykernel_4312\\3963198717.py:22: FutureWarning: The frame.append method is deprecated and will be removed from pandas in a future version. Use pandas.concat instead.\n",
      "  df = df.append({\"Headline\": headline, \"Author\": author, \"Post_date\": post_date, \"Content\": content}, ignore_index=True)\n",
      "C:\\Users\\Admin\\AppData\\Local\\Temp\\ipykernel_4312\\3963198717.py:22: FutureWarning: The frame.append method is deprecated and will be removed from pandas in a future version. Use pandas.concat instead.\n",
      "  df = df.append({\"Headline\": headline, \"Author\": author, \"Post_date\": post_date, \"Content\": content}, ignore_index=True)\n",
      "C:\\Users\\Admin\\AppData\\Local\\Temp\\ipykernel_4312\\3963198717.py:22: FutureWarning: The frame.append method is deprecated and will be removed from pandas in a future version. Use pandas.concat instead.\n",
      "  df = df.append({\"Headline\": headline, \"Author\": author, \"Post_date\": post_date, \"Content\": content}, ignore_index=True)\n",
      "C:\\Users\\Admin\\AppData\\Local\\Temp\\ipykernel_4312\\3963198717.py:22: FutureWarning: The frame.append method is deprecated and will be removed from pandas in a future version. Use pandas.concat instead.\n",
      "  df = df.append({\"Headline\": headline, \"Author\": author, \"Post_date\": post_date, \"Content\": content}, ignore_index=True)\n",
      "C:\\Users\\Admin\\AppData\\Local\\Temp\\ipykernel_4312\\3963198717.py:22: FutureWarning: The frame.append method is deprecated and will be removed from pandas in a future version. Use pandas.concat instead.\n",
      "  df = df.append({\"Headline\": headline, \"Author\": author, \"Post_date\": post_date, \"Content\": content}, ignore_index=True)\n",
      "C:\\Users\\Admin\\AppData\\Local\\Temp\\ipykernel_4312\\3963198717.py:22: FutureWarning: The frame.append method is deprecated and will be removed from pandas in a future version. Use pandas.concat instead.\n",
      "  df = df.append({\"Headline\": headline, \"Author\": author, \"Post_date\": post_date, \"Content\": content}, ignore_index=True)\n",
      "C:\\Users\\Admin\\AppData\\Local\\Temp\\ipykernel_4312\\3963198717.py:22: FutureWarning: The frame.append method is deprecated and will be removed from pandas in a future version. Use pandas.concat instead.\n",
      "  df = df.append({\"Headline\": headline, \"Author\": author, \"Post_date\": post_date, \"Content\": content}, ignore_index=True)\n",
      "C:\\Users\\Admin\\AppData\\Local\\Temp\\ipykernel_4312\\3963198717.py:22: FutureWarning: The frame.append method is deprecated and will be removed from pandas in a future version. Use pandas.concat instead.\n",
      "  df = df.append({\"Headline\": headline, \"Author\": author, \"Post_date\": post_date, \"Content\": content}, ignore_index=True)\n",
      "C:\\Users\\Admin\\AppData\\Local\\Temp\\ipykernel_4312\\3963198717.py:22: FutureWarning: The frame.append method is deprecated and will be removed from pandas in a future version. Use pandas.concat instead.\n",
      "  df = df.append({\"Headline\": headline, \"Author\": author, \"Post_date\": post_date, \"Content\": content}, ignore_index=True)\n",
      "C:\\Users\\Admin\\AppData\\Local\\Temp\\ipykernel_4312\\3963198717.py:22: FutureWarning: The frame.append method is deprecated and will be removed from pandas in a future version. Use pandas.concat instead.\n",
      "  df = df.append({\"Headline\": headline, \"Author\": author, \"Post_date\": post_date, \"Content\": content}, ignore_index=True)\n"
     ]
    }
   ],
   "source": [
    "# Set pandas display options\n",
    "pd.set_option('display.max_columns', None)\n",
    "pd.set_option('display.max_colwidth', None)\n",
    "\n",
    "# Initialize an empty DataFrame\n",
    "df = pd.DataFrame(columns=[\"Headline\", \"Author\", \"Post_date\", \"Content\"])\n",
    "\n",
    "for article_url in todays_and_yesturdays_article_urls:\n",
    "    driver.get(article_url)\n",
    "    post_date = driver.find_element(By.CLASS_NAME, \"postdate\").text\n",
    "    \n",
    "    if post_date_check(post_date):\n",
    "        # collecting the data\n",
    "        headline = driver.find_element(By.XPATH, \"//h1[@class='singlePageTitle']\").text\n",
    "        author = driver.find_element(By.CLASS_NAME, \"postauthor\").text\n",
    "        p_content = driver.find_elements(By.XPATH, \"//div[@class='post']//p\")\n",
    "        content = ''\n",
    "        for i in p_content:\n",
    "            content += i.text\n",
    "            \n",
    "        # Storing the date in to dataframe\n",
    "        df = df.append({\"Headline\": headline, \"Author\": author, \"Post_date\": post_date, \"Content\": content}, ignore_index=True)\n"
   ]
  },
  {
   "cell_type": "code",
   "execution_count": null,
   "id": "fb94f14f",
   "metadata": {},
   "outputs": [],
   "source": []
  },
  {
   "cell_type": "code",
   "execution_count": 49,
   "id": "79b0ed0a",
   "metadata": {},
   "outputs": [],
   "source": [
    "# removing duplicated article if any\n",
    "df = df.drop_duplicates()"
   ]
  },
  {
   "cell_type": "code",
   "execution_count": 52,
   "id": "a7dd7af2",
   "metadata": {},
   "outputs": [],
   "source": [
    "# df.sample(2)"
   ]
  },
  {
   "cell_type": "code",
   "execution_count": null,
   "id": "0f10759e",
   "metadata": {},
   "outputs": [],
   "source": [
    "# storing data in to excel file\n",
    "df.to_excel('African_Examiner_article.xlsx', index=False)"
   ]
  },
  {
   "cell_type": "code",
   "execution_count": 53,
   "id": "562f29f0",
   "metadata": {},
   "outputs": [],
   "source": [
    "driver.quit()"
   ]
  },
  {
   "cell_type": "code",
   "execution_count": null,
   "id": "bdc98979",
   "metadata": {},
   "outputs": [],
   "source": []
  },
  {
   "cell_type": "markdown",
   "id": "3c6a5471",
   "metadata": {},
   "source": [
    "# Rough work"
   ]
  },
  {
   "cell_type": "code",
   "execution_count": 28,
   "id": "151d8787",
   "metadata": {},
   "outputs": [],
   "source": [
    "# Testing code with single url\n",
    "signle_article_url = todays_and_yesturdays_article_urls[0]"
   ]
  },
  {
   "cell_type": "code",
   "execution_count": 29,
   "id": "1d3eb911",
   "metadata": {},
   "outputs": [],
   "source": [
    "driver.get(signle_article_url)"
   ]
  },
  {
   "cell_type": "code",
   "execution_count": 30,
   "id": "da09959b",
   "metadata": {},
   "outputs": [
    {
     "data": {
      "text/plain": [
       "'[OPINION] Can INEC Deliver Hitch-Free Election In Kogi, Bayelsa, Imo?'"
      ]
     },
     "execution_count": 30,
     "metadata": {},
     "output_type": "execute_result"
    }
   ],
   "source": [
    "headline = driver.find_element(By.XPATH, \"//h1[@class='singlePageTitle']\").text\n",
    "headline"
   ]
  },
  {
   "cell_type": "code",
   "execution_count": 31,
   "id": "13c0e6b8",
   "metadata": {},
   "outputs": [
    {
     "data": {
      "text/plain": [
       "'Tuesday, October 24th, 2023'"
      ]
     },
     "execution_count": 31,
     "metadata": {},
     "output_type": "execute_result"
    }
   ],
   "source": [
    "p_date = driver.find_element(By.CLASS_NAME, \"postdate\").text\n",
    "p_date"
   ]
  },
  {
   "cell_type": "code",
   "execution_count": 34,
   "id": "bdf5055f",
   "metadata": {},
   "outputs": [
    {
     "data": {
      "text/plain": [
       "'Posted by African Examiner'"
      ]
     },
     "execution_count": 34,
     "metadata": {},
     "output_type": "execute_result"
    }
   ],
   "source": [
    "p_author = driver.find_element(By.CLASS_NAME, \"postauthor\").text\n",
    "p_author"
   ]
  },
  {
   "cell_type": "code",
   "execution_count": 35,
   "id": "674bfa2f",
   "metadata": {},
   "outputs": [],
   "source": [
    "p_con = driver.find_elements(By.XPATH, \"//div[@class='post']//p\")\n",
    "p_con_text = ''\n",
    "for i in p_con:\n",
    "    p_con_text += i.text"
   ]
  },
  {
   "cell_type": "code",
   "execution_count": 37,
   "id": "9d6e8684",
   "metadata": {},
   "outputs": [],
   "source": [
    "# p_con_text"
   ]
  },
  {
   "cell_type": "code",
   "execution_count": 42,
   "id": "822a968a",
   "metadata": {},
   "outputs": [
    {
     "name": "stdout",
     "output_type": "stream",
     "text": [
      "T\n"
     ]
    }
   ],
   "source": [
    "if post_date_check('Saturday, October 24st, 2023'):\n",
    "    print('T')\n",
    "else:\n",
    "    print('F')"
   ]
  }
 ],
 "metadata": {
  "kernelspec": {
   "display_name": "Python 3 (ipykernel)",
   "language": "python",
   "name": "python3"
  },
  "language_info": {
   "codemirror_mode": {
    "name": "ipython",
    "version": 3
   },
   "file_extension": ".py",
   "mimetype": "text/x-python",
   "name": "python",
   "nbconvert_exporter": "python",
   "pygments_lexer": "ipython3",
   "version": "3.9.13"
  }
 },
 "nbformat": 4,
 "nbformat_minor": 5
}
