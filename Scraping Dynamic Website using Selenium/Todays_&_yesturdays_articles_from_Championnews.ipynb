{
 "cells": [
  {
   "cell_type": "markdown",
   "id": "6ba9276d",
   "metadata": {},
   "source": [
    "### Scrapping todays & yesturdays article on multiple pages of the Champion News website by searching for the  country-name(or any keyword)."
   ]
  },
  {
   "cell_type": "code",
   "execution_count": 1,
   "id": "067eb53d",
   "metadata": {},
   "outputs": [],
   "source": [
    "# importing modules\n",
    "import pandas as pd\n",
    "from selenium import webdriver\n",
    "from selenium.webdriver.common.by import By\n",
    "from selenium.webdriver.common.keys import Keys\n",
    "from selenium.webdriver.support.ui import WebDriverWait\n",
    "from selenium.webdriver.support import expected_conditions as EC\n",
    "from datetime import date, timedelta, datetime\n",
    "import time\n",
    "import re"
   ]
  },
  {
   "cell_type": "code",
   "execution_count": 2,
   "id": "abf74936",
   "metadata": {},
   "outputs": [],
   "source": [
    "# Set up the web driver (provide the path to your Firefox web driver)\n",
    "chrome_options = webdriver.FirefoxOptions()\n",
    "\n",
    "chrome_options.add_argument(\"--window-size=1920x1080\")\n",
    "chrome_options.add_argument(\"--disable-notifications\")\n",
    "chrome_options.add_argument(\"--no-sandbox\")\n",
    "chrome_options.add_argument(\"--verbose\")\n",
    "chrome_options.add_argument(\"--disable-gpu\")\n",
    "chrome_options.add_argument(\"--disable-software-rasterizer\")\n",
    "\n",
    "driver = webdriver.Firefox(options=chrome_options)\n",
    "\n",
    "driver.get(\"https://championnews.com.ng\")"
   ]
  },
  {
   "cell_type": "code",
   "execution_count": 3,
   "id": "b753cb1d",
   "metadata": {},
   "outputs": [],
   "source": [
    "# Clicking the search icon\n",
    "search_icon = driver.find_element(By.XPATH, \"//span[@class='search-handler']\")\n",
    "search_icon.click()\n",
    "# Get the input elements\n",
    "search_input = driver.find_element(By.XPATH, \"//input[@class='search-field']\")\n",
    "search_button = driver.find_element(By.XPATH, \"//input[@value='Search']\")\n",
    "\n",
    "# Send the input to the webpage\n",
    "search_input.send_keys('nigeria')\n",
    "search_input.send_keys(Keys.RETURN)"
   ]
  },
  {
   "cell_type": "code",
   "execution_count": null,
   "id": "05721266",
   "metadata": {},
   "outputs": [],
   "source": []
  },
  {
   "cell_type": "code",
   "execution_count": 4,
   "id": "e03f9596",
   "metadata": {},
   "outputs": [],
   "source": [
    "# Define today's date and yesterday's date\n",
    "\n",
    "today = date.today()\n",
    "yesterday = today - timedelta(days=1)\n",
    "\n",
    "def post_date_check(post_date):\n",
    "    date_match = re.search(r'(\\w{3})\\s(\\d{1,2}),\\s(\\d{4})', post_date)\n",
    "    \n",
    "    if date_match:\n",
    "        month, day, year = date_match.groups()\n",
    "        month_map = {\n",
    "            'Jan': 1, 'Feb': 2, 'Mar': 3, 'Apr': 4, 'May': 5, 'Jun': 6,\n",
    "            'Jul': 7, 'Aug': 8, 'Sep': 9, 'Oct': 10, 'Nov': 11, 'Dec': 12\n",
    "        }\n",
    "        month_number = month_map.get(month)\n",
    "        article_date = datetime(int(year), month_number, int(day)).date()\n",
    "\n",
    "        return article_date == today or article_date == yesterday\n",
    "\n",
    "    return False\n"
   ]
  },
  {
   "cell_type": "code",
   "execution_count": 6,
   "id": "4c9f6aff",
   "metadata": {},
   "outputs": [
    {
     "name": "stdout",
     "output_type": "stream",
     "text": [
      "True\n",
      "False\n"
     ]
    }
   ],
   "source": [
    "print(post_date_check('Oct 29, 2023'))\n",
    "print(post_date_check('Oct 27, 2023'))"
   ]
  },
  {
   "cell_type": "code",
   "execution_count": 7,
   "id": "c268b107",
   "metadata": {},
   "outputs": [],
   "source": [
    "# list for storing the articles url\n",
    "todays_and_yesturdays_article_urls = []\n",
    "# list for storing the articles post-date becouse post-date not available in single article page\n",
    "articles_postdate = []\n",
    "\n",
    "# Scrapping articles with pagination\n",
    "new_articles = True\n",
    "\n",
    "# Loop through the pages\n",
    "while new_articles:\n",
    "    \n",
    "    # Scrolling down to load more search results\n",
    "    for _ in range(5):\n",
    "        driver.execute_script(\"window.scrollTo(0, document.body.scrollHeight);\")\n",
    "        time.sleep(3)\n",
    "    \n",
    "    # collecting all articles from the current page\n",
    "    article_list = driver.find_elements(By.XPATH, \"//div//article\")\n",
    "    \n",
    "    # Extract the URLs of today's and yesterday's articles \n",
    "    for article in article_list:\n",
    "        # Extract the date\n",
    "        date_text = article.find_element(By.CLASS_NAME, \"time\").text\n",
    "        date_match = post_date_check(date_text)\n",
    "\n",
    "        if date_match:\n",
    "            a_link = article.find_element(By.TAG_NAME, \"h2\").find_element(By.TAG_NAME, \"a\").get_attribute(\"href\")\n",
    "            todays_and_yesturdays_article_urls.append(a_link)\n",
    "            articles_postdate.append(date_text)\n",
    "        else:\n",
    "            new_articles = False\n",
    "            # break\n",
    "        \n",
    "    # Find and click the pagination link for the next page\n",
    "    try:\n",
    "        next_page_link = driver.find_element(By.XPATH, \"//div[@class='older']//a\")\n",
    "        next_page_link.click()\n",
    "    except NoSuchElementException:\n",
    "        print(\"No 'Next Page' link found. Exiting the loop.\")\n",
    "        break  # Exit the loop if there is no \"Next Page\" link"
   ]
  },
  {
   "cell_type": "code",
   "execution_count": null,
   "id": "cf800f3b",
   "metadata": {},
   "outputs": [],
   "source": []
  },
  {
   "cell_type": "code",
   "execution_count": 8,
   "id": "a8b6b1b0",
   "metadata": {},
   "outputs": [
    {
     "data": {
      "text/plain": [
       "4"
      ]
     },
     "execution_count": 8,
     "metadata": {},
     "output_type": "execute_result"
    }
   ],
   "source": [
    "len(todays_and_yesturdays_article_urls)"
   ]
  },
  {
   "cell_type": "code",
   "execution_count": 9,
   "id": "a1c9eb18",
   "metadata": {},
   "outputs": [
    {
     "data": {
      "text/plain": [
       "4"
      ]
     },
     "execution_count": 9,
     "metadata": {},
     "output_type": "execute_result"
    }
   ],
   "source": [
    "len(articles_postdate)"
   ]
  },
  {
   "cell_type": "code",
   "execution_count": 15,
   "id": "40aee198",
   "metadata": {},
   "outputs": [],
   "source": [
    "# Set pandas display options\n",
    "pd.set_option('display.max_columns', None)\n",
    "pd.set_option('display.max_colwidth', None)\n",
    "\n",
    "# Initialize an empty list to store dictionaries\n",
    "data_list = []\n",
    "\n",
    "for article_url in todays_and_yesturdays_article_urls:\n",
    "    driver.get(article_url)\n",
    "    # Wait for the article page to load\n",
    "    wait = WebDriverWait(driver, 10)  # Adjust the timeout as needed\n",
    "    article_element = wait.until(EC.presence_of_element_located((By.XPATH, \"//h1[@class='single-post-title']\")))\n",
    "    \n",
    "    # collecting the data\n",
    "    headline = driver.find_element(By.XPATH, \"//h1[@class='single-post-title']\").text\n",
    "    p_content = driver.find_elements(By.XPATH, \"//div[@class='continue-reading-content close']//p\")\n",
    "    content = ''\n",
    "    for i in p_content:\n",
    "        content += i.text\n",
    "        \n",
    "    content = content.replace(\"    \", \" \")\n",
    "    \n",
    "    # Append the data to the list as a dictionary\n",
    "    data_list.append({\"Headline\": headline, \"Content\": content})\n",
    "    "
   ]
  },
  {
   "cell_type": "code",
   "execution_count": 16,
   "id": "4dc417ea",
   "metadata": {},
   "outputs": [],
   "source": [
    "# Create the DataFrame by concatenating the list of dictionaries\n",
    "df = pd.DataFrame(data_list)"
   ]
  },
  {
   "cell_type": "code",
   "execution_count": 17,
   "id": "e56f4461",
   "metadata": {},
   "outputs": [],
   "source": [
    "df['Post_date'] = articles_postdate"
   ]
  },
  {
   "cell_type": "code",
   "execution_count": 18,
   "id": "085a14b1",
   "metadata": {},
   "outputs": [
    {
     "data": {
      "text/plain": [
       "4"
      ]
     },
     "execution_count": 18,
     "metadata": {},
     "output_type": "execute_result"
    }
   ],
   "source": [
    "len(df)"
   ]
  },
  {
   "cell_type": "code",
   "execution_count": 19,
   "id": "cc6bbf23",
   "metadata": {},
   "outputs": [
    {
     "data": {
      "text/html": [
       "<div>\n",
       "<style scoped>\n",
       "    .dataframe tbody tr th:only-of-type {\n",
       "        vertical-align: middle;\n",
       "    }\n",
       "\n",
       "    .dataframe tbody tr th {\n",
       "        vertical-align: top;\n",
       "    }\n",
       "\n",
       "    .dataframe thead th {\n",
       "        text-align: right;\n",
       "    }\n",
       "</style>\n",
       "<table border=\"1\" class=\"dataframe\">\n",
       "  <thead>\n",
       "    <tr style=\"text-align: right;\">\n",
       "      <th></th>\n",
       "      <th>Headline</th>\n",
       "      <th>Content</th>\n",
       "      <th>Post_date</th>\n",
       "    </tr>\n",
       "  </thead>\n",
       "  <tbody>\n",
       "    <tr>\n",
       "      <th>1</th>\n",
       "      <td>Idris urges Nigerians to unite for the Renewed Hope Agenda as the Supreme Court validates Presidential Election Result</td>\n",
       "      <td>CHIDIMMA UCHEGBU – Abuja The Minister of Information and National Orientation, Alhaji Mohammed Idris has urged Nigerians to unite and support the Renewed Hope Agenda of President Bola Ahmed Tinubu as the Supreme Court validates presidential election results. The minister stated this at a press conference in Abuja in the aftermath of the ruling by the Supreme Court of Nigeria on the outcome of the 2023 presidential election. The event was held on October 27, 2023. The Hon. Minister said that the legal contest and distraction regarding the outcome of the Presidential election is over, and it is time for all Nigerians to come together and move the Nation forward, adding that since the President assumed office on May 29, he has worked tirelessly to actualize the Renewed Hope Agenda by implementing unprecedented reforms that seem tough and painful in the short term but are necessary foundations for the economic growth and prosperity that Nigerians deserve. Alhaji Idris said the government is aware of the present challenges caused by the removal of petrol subsidies and the ongoing liberalization of the foreign exchange regime and is taking urgent and deliberate steps to alleviate the pain and cushion the effects on Nigerians. He noted that the removal of petrol subsidies is freeing up significant resources for Federal and State Governments to invest in infrastructure and welfare programs for the benefit of citizens. He said that the ongoing liberalization of the foreign exchange regime is blocking loopholes and gaps that have been exploited in very evil ways over the years, leading to the loss of billions of dollars. The Minister highlighted over ten key programmes undertaken by the present administration, which include the provisional wage increment of N35,000 monthly for six months to enhance the Federal minimum wage, the establishment of an Infrastructure Support Fund, and the Launch of a 100 Billion Naira CNG bus rollout programme, payment of Cash Transfer of N25,000 monthly to the poorest and most vulnerable Nigerians for 3 months, the release of 200,000 metric tonnes of grains from strategic reserves to households across the 36 states and FCT to moderate prices, and 225,000 metric tonnes of fertilizer, seedlings, and other inputs to farmers. Others include the five Executive Orders, aimed at improving Nigeria’s business and fiscal environment and increasing foreign exchange supply, the establishment of a Presidential Fiscal Policy and Tax Reform Committee to reform the tax system and reduce the tax burden and complications on Nigerians, An access-to-credit programme for start-ups and MSMEs: providing N50 billion in Conditional Grants to 1 million Nano-businesses across Nigeria between now and March 2024; and a new single-digit interest-rate Fund to provide N75 billion to support manufacturing enterprises, among others. The Minister also added that the government had launched the 3MTT programme to develop 3 million technical talents by 2025, in line with the President’s vision for making Nigeria a global hub for digital jobs. He said the government has also launched the National Talent Export Programme (NATEP), to create one million service-export jobs over the next 5 years, and make Nigeria a global business outsourcing hub, while the new student loan program is expected to kick off in January 2024. The Minister assured that the Federal Government will not abdicate its responsibilities but noted that State and Local Governments have significant roles to play. He recalled that during a recent Executive Council of the Federation (ECF) meeting, several financing packages were approved to support States’ delivery of various programmes, including access to education for adolescent girls. The Minister assured that the government will continue to strive to rebuild the trust of citizens in the ways and workings of the Government and boost the credibility of public information and communication. The Minister was accompanied in the Press Briefing by some of the newly appointed Directors-General of Agencies and Parastatals under the Ministry.  For a better society—————————————————————–Kindly follow us across all our social media platforms to stay up-to-date with the latest news and happenings in Nigeria and across the globe.Facebook – https://facebook.com/championnewsonlineInstagram – https://instagram.com/championnewsonlineTwitter– @championnewsng</td>\n",
       "      <td>Oct 29, 2023</td>\n",
       "    </tr>\n",
       "  </tbody>\n",
       "</table>\n",
       "</div>"
      ],
      "text/plain": [
       "                                                                                                                 Headline  \\\n",
       "1  Idris urges Nigerians to unite for the Renewed Hope Agenda as the Supreme Court validates Presidential Election Result   \n",
       "\n",
       "                                                                                                                                                                                                                                                                                                                                                                                                                                                                                                                                                                                                                                                                                                                                                                                                                                                                                                                                                                                                                                                                                                                                                                                                                                                                                                                                                                                                                                                                                                                                                                                                                                                                                                                                                                                                                                                                                                                                                                                                                                                                                                                                                                                                                                                                                                                                                                                                                                                                                                                                                                                                                                                                                                                                                                                                                                                                                                                                                                                                                                                                                                                                                                                                                                                                                                                                                                                                                                                                                                                                                                                                                                                                                                                                                                                                                                                                                                                                                                                                                                                                                                                                                                                                                                                                                                                                                                                                                                                                                                                                                                                               Content  \\\n",
       "1  CHIDIMMA UCHEGBU – Abuja The Minister of Information and National Orientation, Alhaji Mohammed Idris has urged Nigerians to unite and support the Renewed Hope Agenda of President Bola Ahmed Tinubu as the Supreme Court validates presidential election results. The minister stated this at a press conference in Abuja in the aftermath of the ruling by the Supreme Court of Nigeria on the outcome of the 2023 presidential election. The event was held on October 27, 2023. The Hon. Minister said that the legal contest and distraction regarding the outcome of the Presidential election is over, and it is time for all Nigerians to come together and move the Nation forward, adding that since the President assumed office on May 29, he has worked tirelessly to actualize the Renewed Hope Agenda by implementing unprecedented reforms that seem tough and painful in the short term but are necessary foundations for the economic growth and prosperity that Nigerians deserve. Alhaji Idris said the government is aware of the present challenges caused by the removal of petrol subsidies and the ongoing liberalization of the foreign exchange regime and is taking urgent and deliberate steps to alleviate the pain and cushion the effects on Nigerians. He noted that the removal of petrol subsidies is freeing up significant resources for Federal and State Governments to invest in infrastructure and welfare programs for the benefit of citizens. He said that the ongoing liberalization of the foreign exchange regime is blocking loopholes and gaps that have been exploited in very evil ways over the years, leading to the loss of billions of dollars. The Minister highlighted over ten key programmes undertaken by the present administration, which include the provisional wage increment of N35,000 monthly for six months to enhance the Federal minimum wage, the establishment of an Infrastructure Support Fund, and the Launch of a 100 Billion Naira CNG bus rollout programme, payment of Cash Transfer of N25,000 monthly to the poorest and most vulnerable Nigerians for 3 months, the release of 200,000 metric tonnes of grains from strategic reserves to households across the 36 states and FCT to moderate prices, and 225,000 metric tonnes of fertilizer, seedlings, and other inputs to farmers. Others include the five Executive Orders, aimed at improving Nigeria’s business and fiscal environment and increasing foreign exchange supply, the establishment of a Presidential Fiscal Policy and Tax Reform Committee to reform the tax system and reduce the tax burden and complications on Nigerians, An access-to-credit programme for start-ups and MSMEs: providing N50 billion in Conditional Grants to 1 million Nano-businesses across Nigeria between now and March 2024; and a new single-digit interest-rate Fund to provide N75 billion to support manufacturing enterprises, among others. The Minister also added that the government had launched the 3MTT programme to develop 3 million technical talents by 2025, in line with the President’s vision for making Nigeria a global hub for digital jobs. He said the government has also launched the National Talent Export Programme (NATEP), to create one million service-export jobs over the next 5 years, and make Nigeria a global business outsourcing hub, while the new student loan program is expected to kick off in January 2024. The Minister assured that the Federal Government will not abdicate its responsibilities but noted that State and Local Governments have significant roles to play. He recalled that during a recent Executive Council of the Federation (ECF) meeting, several financing packages were approved to support States’ delivery of various programmes, including access to education for adolescent girls. The Minister assured that the government will continue to strive to rebuild the trust of citizens in the ways and workings of the Government and boost the credibility of public information and communication. The Minister was accompanied in the Press Briefing by some of the newly appointed Directors-General of Agencies and Parastatals under the Ministry.  For a better society—————————————————————–Kindly follow us across all our social media platforms to stay up-to-date with the latest news and happenings in Nigeria and across the globe.Facebook – https://facebook.com/championnewsonlineInstagram – https://instagram.com/championnewsonlineTwitter– @championnewsng   \n",
       "\n",
       "      Post_date  \n",
       "1  Oct 29, 2023  "
      ]
     },
     "execution_count": 19,
     "metadata": {},
     "output_type": "execute_result"
    }
   ],
   "source": [
    "df.sample(1)"
   ]
  },
  {
   "cell_type": "code",
   "execution_count": null,
   "id": "e9dd0e28",
   "metadata": {},
   "outputs": [],
   "source": []
  },
  {
   "cell_type": "code",
   "execution_count": null,
   "id": "539f9423",
   "metadata": {},
   "outputs": [],
   "source": [
    "# storing data in to excel file\n",
    "df.to_excel('championnews.xlsx', index=False)"
   ]
  },
  {
   "cell_type": "code",
   "execution_count": null,
   "id": "212c66b4",
   "metadata": {},
   "outputs": [],
   "source": []
  },
  {
   "cell_type": "code",
   "execution_count": 20,
   "id": "c1669b12",
   "metadata": {},
   "outputs": [],
   "source": [
    "driver.quit()"
   ]
  }
 ],
 "metadata": {
  "kernelspec": {
   "display_name": "Python 3 (ipykernel)",
   "language": "python",
   "name": "python3"
  },
  "language_info": {
   "codemirror_mode": {
    "name": "ipython",
    "version": 3
   },
   "file_extension": ".py",
   "mimetype": "text/x-python",
   "name": "python",
   "nbconvert_exporter": "python",
   "pygments_lexer": "ipython3",
   "version": "3.9.13"
  }
 },
 "nbformat": 4,
 "nbformat_minor": 5
}
