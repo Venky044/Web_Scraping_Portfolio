{
 "cells": [
  {
   "cell_type": "code",
   "execution_count": 1,
   "id": "13215e8c",
   "metadata": {},
   "outputs": [],
   "source": [
    "# importing modules\n",
    "import pandas as pd\n",
    "from selenium import webdriver\n",
    "from selenium.webdriver.common.by import By\n",
    "from selenium.webdriver.common.keys import Keys\n",
    "from selenium.webdriver.support.ui import WebDriverWait\n",
    "from selenium.webdriver.support import expected_conditions as EC\n",
    "import datetime\n",
    "from datetime import date, timedelta, datetime\n",
    "import time\n",
    "import re"
   ]
  },
  {
   "cell_type": "code",
   "execution_count": 2,
   "id": "04ebd2ad",
   "metadata": {},
   "outputs": [],
   "source": [
    "# Set up the web driver (provide the path to your Firefox web driver)\n",
    "chrome_options = webdriver.FirefoxOptions()\n",
    "\n",
    "chrome_options.add_argument(\"--window-size=1920x1080\")\n",
    "chrome_options.add_argument(\"--disable-notifications\")\n",
    "chrome_options.add_argument(\"--no-sandbox\")\n",
    "chrome_options.add_argument(\"--verbose\")\n",
    "chrome_options.add_argument(\"--disable-gpu\")\n",
    "chrome_options.add_argument(\"--disable-software-rasterizer\")\n",
    "\n",
    "driver = webdriver.Firefox(options=chrome_options)\n",
    "\n",
    "driver.get(\"https://www.arise.tv\")"
   ]
  },
  {
   "cell_type": "code",
   "execution_count": 3,
   "id": "b141210a",
   "metadata": {},
   "outputs": [],
   "source": [
    "# Clicking the search icon\n",
    "search_icon = driver.find_element(By.XPATH, \"//li[@class='pos-relative search-toggle']\")\n",
    "search_icon.click()"
   ]
  },
  {
   "cell_type": "code",
   "execution_count": 4,
   "id": "a94d4111",
   "metadata": {},
   "outputs": [],
   "source": [
    "# Get the input elements\n",
    "search_input = driver.find_element(By.XPATH, \"//input[@class='search-field']\")\n",
    "search_button = driver.find_element(By.XPATH, \"//input[@class='search-submit']\")"
   ]
  },
  {
   "cell_type": "code",
   "execution_count": 5,
   "id": "dcc589e2",
   "metadata": {},
   "outputs": [],
   "source": [
    "# Send the input to the webpage\n",
    "search_input.send_keys('nigeria')\n",
    "time.sleep(1)\n",
    "search_button.click()"
   ]
  },
  {
   "cell_type": "code",
   "execution_count": null,
   "id": "ca48a0f6",
   "metadata": {},
   "outputs": [],
   "source": []
  },
  {
   "cell_type": "code",
   "execution_count": 6,
   "id": "35177c52",
   "metadata": {},
   "outputs": [],
   "source": [
    "# Define today's date and yesterday's date\n",
    "\n",
    "today = date.today()\n",
    "yesterday = today - timedelta(days=1)\n",
    "\n",
    "def post_date_check(post_date):\n",
    "    date_match = re.search(r'(\\d{1,2})(?:st|nd|rd|th)?\\s(\\w+),\\s(\\d{4})', post_date)\n",
    "    \n",
    "    if date_match:\n",
    "        day, month, year = date_match.groups()\n",
    "        month_map = {'Jan': 1, 'Feb': 2, 'Mar': 3, 'Apr': 4, 'May': 5, 'Jun': 6,\n",
    "                     'Jul': 7, 'Aug': 8, 'Sep': 9, 'Oct': 10, 'Nov': 11, 'Dec': 12}\n",
    "        month_number = month_map.get(month)\n",
    "        article_date = datetime(int(year), month_number, int(day)).date()\n",
    "\n",
    "        return article_date == today or article_date == yesterday\n",
    "\n",
    "    return False\n"
   ]
  },
  {
   "cell_type": "code",
   "execution_count": 7,
   "id": "83cef846",
   "metadata": {},
   "outputs": [
    {
     "data": {
      "text/plain": [
       "True"
      ]
     },
     "execution_count": 7,
     "metadata": {},
     "output_type": "execute_result"
    }
   ],
   "source": [
    "post_date_check('24th Oct, 2023')"
   ]
  },
  {
   "cell_type": "code",
   "execution_count": 11,
   "id": "982cf35b",
   "metadata": {},
   "outputs": [],
   "source": [
    "todays_and_yesturdays_article_urls = []\n",
    "\n",
    "# collecting article's url from Exclusives & Trending section\n",
    "article_list_2 = driver.find_elements(By.XPATH, \"//div[@class='panel']//article\")\n",
    "for article in article_list_2:\n",
    "    date_text = article.find_element(By.CLASS_NAME, \"date\").text\n",
    "    date_match = post_date_check(date_text)\n",
    " \n",
    "    if date_match:\n",
    "        a_link = article.find_element(By.XPATH, \"div[@class='article-content']//h3//a\").get_attribute('href')\n",
    "        # print(a_link)\n",
    "        if a_link not in todays_and_yesturdays_article_urls:\n",
    "            todays_and_yesturdays_article_urls.append(a_link)\n",
    "            "
   ]
  },
  {
   "cell_type": "code",
   "execution_count": null,
   "id": "021f1fd7",
   "metadata": {},
   "outputs": [],
   "source": []
  },
  {
   "cell_type": "code",
   "execution_count": 48,
   "id": "80b6fca6",
   "metadata": {},
   "outputs": [],
   "source": [
    "# Scrapping articles with pagination\n",
    "new_articles = True\n",
    "\n",
    "# Loop through the pages\n",
    "while new_articles:\n",
    "    \n",
    "    # Scrolling down to load more search results\n",
    "    for _ in range(5):\n",
    "        driver.execute_script(\"window.scrollTo(0, document.body.scrollHeight);\")\n",
    "        time.sleep(3)\n",
    "    \n",
    "    # collecting all articles from the current page\n",
    "    article_list = driver.find_elements(By.XPATH, \"//div[@id='arise_loop_content']//article\")\n",
    "    \n",
    "    # Extract the URLs of today's and yesterday's articles \n",
    "    for article in article_list:\n",
    "        # Extract the date\n",
    "        date_text = article.find_element(By.CLASS_NAME, \"date\").text\n",
    "        date_match = post_date_check(date_text)\n",
    "\n",
    "        if date_match:\n",
    "            a_link = article.find_element(By.TAG_NAME, 'h3').find_element(By.TAG_NAME, 'a').get_attribute('href')\n",
    "\n",
    "            if a_link not in todays_and_yesturdays_article_urls:\n",
    "                todays_and_yesturdays_article_urls.append(a_link)\n",
    "        else:\n",
    "            new_articles = False\n",
    "            # break\n",
    "        \n",
    "    # Find and click the pagination link for the next page\n",
    "    try:\n",
    "        next_page_link = driver.find_element(By.XPATH, \"//div[@class='nav-previous']\")\n",
    "        next_page_link.click()\n",
    "    except NoSuchElementException:\n",
    "        print(\"No 'Next Page' link found. Exiting the loop.\")\n",
    "        break  # Exit the loop if there is no \"Next Page\" link"
   ]
  },
  {
   "cell_type": "code",
   "execution_count": 49,
   "id": "e867c82c",
   "metadata": {},
   "outputs": [
    {
     "data": {
      "text/plain": [
       "11"
      ]
     },
     "execution_count": 49,
     "metadata": {},
     "output_type": "execute_result"
    }
   ],
   "source": [
    "len(todays_and_yesturdays_article_urls)"
   ]
  },
  {
   "cell_type": "code",
   "execution_count": 61,
   "id": "77f8a0fe",
   "metadata": {},
   "outputs": [
    {
     "name": "stderr",
     "output_type": "stream",
     "text": [
      "C:\\Users\\Admin\\AppData\\Local\\Temp\\ipykernel_5608\\2835225190.py:23: FutureWarning: The frame.append method is deprecated and will be removed from pandas in a future version. Use pandas.concat instead.\n",
      "  df = df.append({\"Headline\": headline, \"Author\": author, \"Post_date\": post_date, \"Content\": content}, ignore_index=True)\n",
      "C:\\Users\\Admin\\AppData\\Local\\Temp\\ipykernel_5608\\2835225190.py:23: FutureWarning: The frame.append method is deprecated and will be removed from pandas in a future version. Use pandas.concat instead.\n",
      "  df = df.append({\"Headline\": headline, \"Author\": author, \"Post_date\": post_date, \"Content\": content}, ignore_index=True)\n",
      "C:\\Users\\Admin\\AppData\\Local\\Temp\\ipykernel_5608\\2835225190.py:23: FutureWarning: The frame.append method is deprecated and will be removed from pandas in a future version. Use pandas.concat instead.\n",
      "  df = df.append({\"Headline\": headline, \"Author\": author, \"Post_date\": post_date, \"Content\": content}, ignore_index=True)\n",
      "C:\\Users\\Admin\\AppData\\Local\\Temp\\ipykernel_5608\\2835225190.py:23: FutureWarning: The frame.append method is deprecated and will be removed from pandas in a future version. Use pandas.concat instead.\n",
      "  df = df.append({\"Headline\": headline, \"Author\": author, \"Post_date\": post_date, \"Content\": content}, ignore_index=True)\n",
      "C:\\Users\\Admin\\AppData\\Local\\Temp\\ipykernel_5608\\2835225190.py:23: FutureWarning: The frame.append method is deprecated and will be removed from pandas in a future version. Use pandas.concat instead.\n",
      "  df = df.append({\"Headline\": headline, \"Author\": author, \"Post_date\": post_date, \"Content\": content}, ignore_index=True)\n",
      "C:\\Users\\Admin\\AppData\\Local\\Temp\\ipykernel_5608\\2835225190.py:23: FutureWarning: The frame.append method is deprecated and will be removed from pandas in a future version. Use pandas.concat instead.\n",
      "  df = df.append({\"Headline\": headline, \"Author\": author, \"Post_date\": post_date, \"Content\": content}, ignore_index=True)\n",
      "C:\\Users\\Admin\\AppData\\Local\\Temp\\ipykernel_5608\\2835225190.py:23: FutureWarning: The frame.append method is deprecated and will be removed from pandas in a future version. Use pandas.concat instead.\n",
      "  df = df.append({\"Headline\": headline, \"Author\": author, \"Post_date\": post_date, \"Content\": content}, ignore_index=True)\n",
      "C:\\Users\\Admin\\AppData\\Local\\Temp\\ipykernel_5608\\2835225190.py:23: FutureWarning: The frame.append method is deprecated and will be removed from pandas in a future version. Use pandas.concat instead.\n",
      "  df = df.append({\"Headline\": headline, \"Author\": author, \"Post_date\": post_date, \"Content\": content}, ignore_index=True)\n",
      "C:\\Users\\Admin\\AppData\\Local\\Temp\\ipykernel_5608\\2835225190.py:23: FutureWarning: The frame.append method is deprecated and will be removed from pandas in a future version. Use pandas.concat instead.\n",
      "  df = df.append({\"Headline\": headline, \"Author\": author, \"Post_date\": post_date, \"Content\": content}, ignore_index=True)\n",
      "C:\\Users\\Admin\\AppData\\Local\\Temp\\ipykernel_5608\\2835225190.py:23: FutureWarning: The frame.append method is deprecated and will be removed from pandas in a future version. Use pandas.concat instead.\n",
      "  df = df.append({\"Headline\": headline, \"Author\": author, \"Post_date\": post_date, \"Content\": content}, ignore_index=True)\n",
      "C:\\Users\\Admin\\AppData\\Local\\Temp\\ipykernel_5608\\2835225190.py:23: FutureWarning: The frame.append method is deprecated and will be removed from pandas in a future version. Use pandas.concat instead.\n",
      "  df = df.append({\"Headline\": headline, \"Author\": author, \"Post_date\": post_date, \"Content\": content}, ignore_index=True)\n"
     ]
    }
   ],
   "source": [
    "# Set pandas display options\n",
    "pd.set_option('display.max_columns', None)\n",
    "pd.set_option('display.max_colwidth', None)\n",
    "\n",
    "# Initialize an empty DataFrame\n",
    "df = pd.DataFrame(columns=[\"Headline\", \"Author\", \"Post_date\", \"Content\"])\n",
    "\n",
    "for article_url in todays_and_yesturdays_article_urls:\n",
    "    driver.get(article_url)\n",
    "    post_date = driver.find_element(By.CLASS_NAME, \"date\").text\n",
    "    \n",
    "    # collecting the data\n",
    "    headline = driver.find_element(By.XPATH, \"//h1[@class='article-title mb-2']\").text\n",
    "    author = driver.find_element(By.CLASS_NAME, \"author\").text\n",
    "    p_content = driver.find_elements(By.XPATH, \"//div[@class='article-content-content']//p\")\n",
    "    content = ''\n",
    "    for i in p_content:\n",
    "        content += i.text\n",
    "        \n",
    "    content = content.replace(\"    \", \" \")\n",
    "    \n",
    "    # Storing the date in to dataframe\n",
    "    df = df.append({\"Headline\": headline, \"Author\": author, \"Post_date\": post_date, \"Content\": content}, ignore_index=True)\n"
   ]
  },
  {
   "cell_type": "code",
   "execution_count": 62,
   "id": "c6ad3a01",
   "metadata": {},
   "outputs": [
    {
     "data": {
      "text/plain": [
       "11"
      ]
     },
     "execution_count": 62,
     "metadata": {},
     "output_type": "execute_result"
    }
   ],
   "source": [
    "len(df)"
   ]
  },
  {
   "cell_type": "code",
   "execution_count": 65,
   "id": "a88f4743",
   "metadata": {},
   "outputs": [],
   "source": [
    "# df.sample(2)"
   ]
  },
  {
   "cell_type": "code",
   "execution_count": 66,
   "id": "4ffcb6c9",
   "metadata": {},
   "outputs": [
    {
     "data": {
      "text/plain": [
       "0                                           Bishop Kukah On Israel-Hamas War: It’s Dangerous To Use Identity As A Weapon\n",
       "1                                          INEC Appointments Should Be Independent of Presidency, Says Former Chair Jega\n",
       "2                                          Aondoakaa: Nigeria Should Take Action Against Corrupt Schemes Similar To P&ID\n",
       "3                                               Tinubu-Led FEC Approves $5BN Poverty Trust Fund – Trending With Ojy Okpe\n",
       "4                Nigeria’s Senate Constitutes Panel To Probe NNPC Over N11.35tn Spent On Moribund Refineries In 13 Years\n",
       "5     Former Nigerian President Jonathan Insists the Problem of Africa is the Making of Leaders Who Fail to Respect Laws\n",
       "6                                               Tax Reforms: Nigeria To Streamline Over 200 Taxes and Levies To Under 10\n",
       "7                                           First Lady Remi Tinubu Bemoans High Prevalence Of Cervical Cancer In Nigeria\n",
       "8                                                   Tinubu Recommends Private-Public Financing For Nigerian Universities\n",
       "9                                                     P&ID: UK Court Clears Shasore Of Corruption Allegations By Nigeria\n",
       "10                                        Additional Tough Decisions For Nigeria Inevitable, CBN Chief Cardoso Declares \n",
       "Name: Headline, dtype: object"
      ]
     },
     "execution_count": 66,
     "metadata": {},
     "output_type": "execute_result"
    }
   ],
   "source": [
    "df['Headline']"
   ]
  },
  {
   "cell_type": "code",
   "execution_count": null,
   "id": "c3b5db26",
   "metadata": {},
   "outputs": [],
   "source": []
  },
  {
   "cell_type": "code",
   "execution_count": null,
   "id": "444cf4e0",
   "metadata": {},
   "outputs": [],
   "source": [
    "# storing data in to excel file\n",
    "df.to_excel('arise_tv_article.xlsx', index=False)"
   ]
  },
  {
   "cell_type": "code",
   "execution_count": 57,
   "id": "a766ab77",
   "metadata": {},
   "outputs": [],
   "source": [
    "driver.back()"
   ]
  },
  {
   "cell_type": "code",
   "execution_count": 67,
   "id": "c11bd0c4",
   "metadata": {},
   "outputs": [],
   "source": [
    "driver.quit()"
   ]
  }
 ],
 "metadata": {
  "kernelspec": {
   "display_name": "Python 3 (ipykernel)",
   "language": "python",
   "name": "python3"
  },
  "language_info": {
   "codemirror_mode": {
    "name": "ipython",
    "version": 3
   },
   "file_extension": ".py",
   "mimetype": "text/x-python",
   "name": "python",
   "nbconvert_exporter": "python",
   "pygments_lexer": "ipython3",
   "version": "3.9.13"
  }
 },
 "nbformat": 4,
 "nbformat_minor": 5
}
