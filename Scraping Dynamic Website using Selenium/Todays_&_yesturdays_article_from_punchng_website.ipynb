{
 "cells": [
  {
   "cell_type": "code",
   "execution_count": 1,
   "id": "6f394a5f",
   "metadata": {},
   "outputs": [],
   "source": [
    "# importing modules\n",
    "import pandas as pd\n",
    "from selenium import webdriver\n",
    "from selenium.webdriver.common.by import By\n",
    "from selenium.webdriver.common.keys import Keys\n",
    "from selenium.webdriver.support.ui import WebDriverWait\n",
    "from selenium.webdriver.support import expected_conditions as EC\n",
    "import datetime\n",
    "import time\n",
    "import re"
   ]
  },
  {
   "cell_type": "code",
   "execution_count": 2,
   "id": "39acab5b",
   "metadata": {},
   "outputs": [],
   "source": [
    "# Set up the web driver (provide the path to your Firefox web driver)\n",
    "chrome_options = webdriver.FirefoxOptions()\n",
    "\n",
    "chrome_options.add_argument(\"--window-size=1920x1080\")\n",
    "chrome_options.add_argument(\"--disable-notifications\")\n",
    "chrome_options.add_argument(\"--no-sandbox\")\n",
    "chrome_options.add_argument(\"--verbose\")\n",
    "chrome_options.add_argument(\"--disable-gpu\")\n",
    "chrome_options.add_argument(\"--disable-software-rasterizer\")\n",
    "\n",
    "driver = webdriver.Firefox(options=chrome_options)\n",
    "\n",
    "driver.get(\"https://punchng.com/\")"
   ]
  },
  {
   "cell_type": "code",
   "execution_count": 3,
   "id": "cd42d73c",
   "metadata": {},
   "outputs": [],
   "source": [
    "# Clicking the search icon\n",
    "search_button = driver.find_element(By.XPATH, \"(//button[@class='search-btn'])[2]\")\n",
    "search_button.click()\n",
    "\n",
    "# Get the input elements\n",
    "input_search = driver.find_element(By.XPATH, \"//input[@name='s']\")\n",
    "search_button_2 = driver.find_element(By.XPATH, \"//button[@class='']\")\n",
    "\n",
    "# Send the input to the webpage\n",
    "input_search.send_keys('nigeria')\n",
    "time.sleep(1)\n",
    "search_button_2.click()\n",
    "\n",
    "time.sleep(2)"
   ]
  },
  {
   "cell_type": "code",
   "execution_count": 4,
   "id": "37feb366",
   "metadata": {},
   "outputs": [],
   "source": [
    "# Define the number of pages you want to scrape (update this according to your needs)\n",
    "num_pages_to_scrape = 2\n",
    "\n",
    "article_urls = []\n",
    "\n",
    "# Loop through the pages\n",
    "for page in range(1, num_pages_to_scrape + 1):\n",
    "    \n",
    "    # Scrolling down to load more search results\n",
    "    for _ in range(5):\n",
    "        driver.execute_script(\"window.scrollTo(0, document.body.scrollHeight);\")\n",
    "        time.sleep(3)\n",
    "    \n",
    "    # Find and click on each article link\n",
    "    article_links = driver.find_elements(By.CLASS_NAME, \"post-title\")\n",
    "\n",
    "    # Extract the URLs of the article pages\n",
    "    for link in article_links:\n",
    "        a_link = link.find_element(By.TAG_NAME, \"a\").get_attribute(\"href\")\n",
    "        article_urls.append(a_link)\n",
    "        \n",
    "    # Find and click the pagination button for the next page (for the \"next page pagination\")\n",
    "    pagination_buttons = driver.find_elements(By.XPATH, \"//ul[@class='pagination']/li/a[@class='page-link text-dark']\")\n",
    "    \n",
    "    next_button_found = False  # Initialize a flag to check if the \"next\" button is found\n",
    "\n",
    "    for button in pagination_buttons:\n",
    "        if button.text == '»':  # Check for the \"next\" button\n",
    "            button.click()\n",
    "            next_button_found = True\n",
    "            break\n",
    "\n",
    "    # If the \"next\" button is not found, break out of the loop\n",
    "    if not next_button_found:\n",
    "        break"
   ]
  },
  {
   "cell_type": "code",
   "execution_count": 6,
   "id": "0874c4c6",
   "metadata": {},
   "outputs": [
    {
     "data": {
      "text/plain": [
       "10"
      ]
     },
     "execution_count": 6,
     "metadata": {},
     "output_type": "execute_result"
    }
   ],
   "source": [
    "len(article_urls)"
   ]
  },
  {
   "cell_type": "code",
   "execution_count": 7,
   "id": "cb93e027",
   "metadata": {},
   "outputs": [
    {
     "name": "stderr",
     "output_type": "stream",
     "text": [
      "C:\\Users\\Admin\\AppData\\Local\\Temp\\ipykernel_5160\\893942554.py:50: FutureWarning: The frame.append method is deprecated and will be removed from pandas in a future version. Use pandas.concat instead.\n",
      "  df = df.append({\"headline\": headline, \"author\": author, \"post_date\": post_date, \"Content\":content}, ignore_index=True)\n",
      "C:\\Users\\Admin\\AppData\\Local\\Temp\\ipykernel_5160\\893942554.py:50: FutureWarning: The frame.append method is deprecated and will be removed from pandas in a future version. Use pandas.concat instead.\n",
      "  df = df.append({\"headline\": headline, \"author\": author, \"post_date\": post_date, \"Content\":content}, ignore_index=True)\n",
      "C:\\Users\\Admin\\AppData\\Local\\Temp\\ipykernel_5160\\893942554.py:50: FutureWarning: The frame.append method is deprecated and will be removed from pandas in a future version. Use pandas.concat instead.\n",
      "  df = df.append({\"headline\": headline, \"author\": author, \"post_date\": post_date, \"Content\":content}, ignore_index=True)\n",
      "C:\\Users\\Admin\\AppData\\Local\\Temp\\ipykernel_5160\\893942554.py:50: FutureWarning: The frame.append method is deprecated and will be removed from pandas in a future version. Use pandas.concat instead.\n",
      "  df = df.append({\"headline\": headline, \"author\": author, \"post_date\": post_date, \"Content\":content}, ignore_index=True)\n",
      "C:\\Users\\Admin\\AppData\\Local\\Temp\\ipykernel_5160\\893942554.py:50: FutureWarning: The frame.append method is deprecated and will be removed from pandas in a future version. Use pandas.concat instead.\n",
      "  df = df.append({\"headline\": headline, \"author\": author, \"post_date\": post_date, \"Content\":content}, ignore_index=True)\n",
      "C:\\Users\\Admin\\AppData\\Local\\Temp\\ipykernel_5160\\893942554.py:50: FutureWarning: The frame.append method is deprecated and will be removed from pandas in a future version. Use pandas.concat instead.\n",
      "  df = df.append({\"headline\": headline, \"author\": author, \"post_date\": post_date, \"Content\":content}, ignore_index=True)\n",
      "C:\\Users\\Admin\\AppData\\Local\\Temp\\ipykernel_5160\\893942554.py:50: FutureWarning: The frame.append method is deprecated and will be removed from pandas in a future version. Use pandas.concat instead.\n",
      "  df = df.append({\"headline\": headline, \"author\": author, \"post_date\": post_date, \"Content\":content}, ignore_index=True)\n",
      "C:\\Users\\Admin\\AppData\\Local\\Temp\\ipykernel_5160\\893942554.py:50: FutureWarning: The frame.append method is deprecated and will be removed from pandas in a future version. Use pandas.concat instead.\n",
      "  df = df.append({\"headline\": headline, \"author\": author, \"post_date\": post_date, \"Content\":content}, ignore_index=True)\n",
      "C:\\Users\\Admin\\AppData\\Local\\Temp\\ipykernel_5160\\893942554.py:50: FutureWarning: The frame.append method is deprecated and will be removed from pandas in a future version. Use pandas.concat instead.\n",
      "  df = df.append({\"headline\": headline, \"author\": author, \"post_date\": post_date, \"Content\":content}, ignore_index=True)\n",
      "C:\\Users\\Admin\\AppData\\Local\\Temp\\ipykernel_5160\\893942554.py:50: FutureWarning: The frame.append method is deprecated and will be removed from pandas in a future version. Use pandas.concat instead.\n",
      "  df = df.append({\"headline\": headline, \"author\": author, \"post_date\": post_date, \"Content\":content}, ignore_index=True)\n"
     ]
    }
   ],
   "source": [
    "# Define today's date and yesterday's date\n",
    "today = datetime.date.today()\n",
    "yesterday = today - datetime.timedelta(days=1)\n",
    "\n",
    "# Set pandas display options\n",
    "pd.set_option('display.max_columns', None)\n",
    "pd.set_option('display.max_colwidth', None)\n",
    "\n",
    "# Initialize an empty DataFrame\n",
    "df = pd.DataFrame(columns=[\"headline\", \"author\", \"post_date\", \"Content\"])\n",
    "\n",
    "# Loop through the article URLs\n",
    "for url in article_urls:\n",
    "    driver.get(url)\n",
    "\n",
    "    # Wait for the article page to load\n",
    "    wait = WebDriverWait(driver, 10)\n",
    "\n",
    "    date_element = wait.until(EC.presence_of_element_located((By.CLASS_NAME, \"post-date\")))\n",
    "    date_text = date_element.text\n",
    "\n",
    "    # Extract the date and compare it with today and yesterday\n",
    "    date_match = re.search(r'(\\d{1,2}(?:st|nd|rd|th)\\s\\w+\\s\\d{4})', date_text)\n",
    "\n",
    "    if date_match:\n",
    "        date_str = date_match.group(0)\n",
    "        date_str = re.sub(r'st|nd|rd|th', '', date_str)\n",
    "        article_date = datetime.datetime.strptime(date_str, \"%d %B %Y\").date()\n",
    "\n",
    "        # Check if the article date is within the desired date range\n",
    "        if article_date >= yesterday and article_date <= today:\n",
    "            # scrapping headlines\n",
    "            headline = driver.find_element(By.CLASS_NAME, 'post-title').text\n",
    "            # scrapping author of the article\n",
    "            if driver.find_element(By.CLASS_NAME, 'post-author'):\n",
    "                author = driver.find_element(By.CLASS_NAME, 'post-author').text\n",
    "            else:\n",
    "                author = 'None'\n",
    "\n",
    "            # scrapping published date\n",
    "            post_date = driver.find_element(By.CLASS_NAME, 'post-date').text\n",
    "\n",
    "            # scrapping content of the article\n",
    "            raw_content = driver.find_elements(By.CLASS_NAME, 'post-content')\n",
    "            content = ''\n",
    "            for con in raw_content:\n",
    "                content += con.text\n",
    "            \n",
    "            # storing all data in to dataframe\n",
    "            df = df.append({\"headline\": headline, \"author\": author, \"post_date\": post_date, \"Content\":content}, ignore_index=True)\n",
    "\n",
    "            # print('one article is done')\n",
    "        \n"
   ]
  },
  {
   "cell_type": "code",
   "execution_count": null,
   "id": "213b300c",
   "metadata": {},
   "outputs": [],
   "source": []
  },
  {
   "cell_type": "code",
   "execution_count": 8,
   "id": "ebee9a96",
   "metadata": {},
   "outputs": [
    {
     "data": {
      "text/plain": [
       "10"
      ]
     },
     "execution_count": 8,
     "metadata": {},
     "output_type": "execute_result"
    }
   ],
   "source": [
    "len(df)"
   ]
  },
  {
   "cell_type": "code",
   "execution_count": 10,
   "id": "521e600d",
   "metadata": {},
   "outputs": [
    {
     "data": {
      "text/html": [
       "<div>\n",
       "<style scoped>\n",
       "    .dataframe tbody tr th:only-of-type {\n",
       "        vertical-align: middle;\n",
       "    }\n",
       "\n",
       "    .dataframe tbody tr th {\n",
       "        vertical-align: top;\n",
       "    }\n",
       "\n",
       "    .dataframe thead th {\n",
       "        text-align: right;\n",
       "    }\n",
       "</style>\n",
       "<table border=\"1\" class=\"dataframe\">\n",
       "  <thead>\n",
       "    <tr style=\"text-align: right;\">\n",
       "      <th></th>\n",
       "      <th>headline</th>\n",
       "      <th>author</th>\n",
       "      <th>post_date</th>\n",
       "      <th>Content</th>\n",
       "    </tr>\n",
       "  </thead>\n",
       "  <tbody>\n",
       "    <tr>\n",
       "      <th>1</th>\n",
       "      <td>Nigeria should stand for the truth in Israel-Hamas war – MUSWEN Executive Secretary</td>\n",
       "      <td>By \\nFarida Mohammed</td>\n",
       "      <td>29th October 2023</td>\n",
       "      <td>Executive Secretary and Chief Executive Officer, Muslim Ummah of South West Nigeria, an arm of the Nigeria Supreme Council for Islamic Affairs, Prof Muslih Yahya, talks to FATTEH HAMID about the Israel-Hamas war and its implications\\nWhat is your take on the ongoing war between Israel and Hamas?\\nWell, I can talk as a person but not on behalf of the NSCIA or MUSWEN because that is an organisation bigger than an individual and would require different inputs. However, as a person and in the absence of that, it is a pity that there’s something like this going on because the history of the Israeli and Palestinian war is a long one dating back to the time that the British government wanted to secure a place for the Jews who are believed to be people without a home. Some parts of Palestine, which was part of the areas the British could rule at that time, was seen as a place that could be given to the Jews to establish what they could call a homeland and that was where this war started. That was when people who were there came out to say that they would not watch while their ancestral home was given to a stranger. Also, the history of the Jews is widely known as people who are all over the place and are everywhere without a nation that they can call their own, thus, that was what they wanted to establish in Palestine.\\nI had the privilege of studying in Damascus in the early 1970s and I was a witness of the Arab-Israeli war that happened around 1971 or thereabout. Therefore, I know that it has been very bloody between the Israelis and the Palestinians. This war, however, has turned Palestinians into refugees without a homeland across the world. There are refugees in Egypt, refugees in Syria, refugees in Lebanon, and everywhere that they are, Palestinians are like refugees and therefore, the Palestinians have never had rest since the establishment of the State of Israel in Palestine. It has been terrible.\\nWhat are the issues behind the war that are important for Nigerians to know?\\nIncidentally, whether we like it or not, the war has some religious undertones and that affects us as Nigerians. However, to make things clear, Palestinians are not only Muslims, it is just like every other country out there. There are Muslims among them and there are Christians among them. However, beyond this and from the humanitarian perspective, it is not fair to send people out of their homelands or turn them into some kind of second-class citizens. In fact, if Israelis had their way, there wouldn’t have been a nation called Palestine again, they want the whole place to belong to Israel which is what the Palestinians do not accept.\\nAs a nation, it is completely unfair to Palestinians for them to be turned into refugees. At this point, nations should call for a ceasefire and they should see how this can be resolved in such a way that nobody would be at a loss. The Israelis should not see themselves as lords over Palestinians and the Palestinians should also not see themselves as people who want to throw the Israelis to the sea as the Israelis would say. I would hope that we could resolve the issue in such a way that the Jews will survive as humans that they are and the Muslims and Christians of Palestine would also survive and not be seen as inferior.\\nMany Nigerians are divided over who to support between the warring parties. Who should Nigeria lend support to and why?\\nNobody likes aggression. Incidentally, people will be divided as far as religion is concerned and you know that many Muslims will support the Palestinians first because it is the cause of a people being oppressed and pursued away from their land, and as Muslims, we would want to be on their side. Also, the Qur’an taught us that we should not let the hatred of certain people blind us from the truth, and in fairness, I would want to say that Nigeria should be in support of one side but at least, we have to be on the side of truth to ensure that Palestinians are not treated badly or do not suffer because some people have invaded their nation.\\nAt this point, I think it is up to the nations of the world to come together and see how they can resolve the war by seeing what both sides can do to ensure that one side does not suffer unfairly.\\nDo you agree that public support for Israel and Hamas or Palestine can further deepen the religious division in the country and jeopardise peace in Nigeria?\\nIt is not impossible. It is not impossible if we don’t look at it dispassionately from the point of view of the human angle. If we look at it, we would agree that we should be on the side of truth, on the side of fairness, and on the side of justice. For the Hamas, a body like that rose because of the need to defend their nation, there is the need to defend their citizen and there is the need for them to defend their homeland from people who just want to oppress them. This was what gave birth to a body like Hamas and that is why I said earlier that there is no other way than having a common ground. Look at the arguments of both sides and see how we can please them.\\nUnfortunately, the kind of support countries like the United States of America, the United Kingdom, and Europe, in general, are giving Israel is making it very difficult to have fair play; that is the unfortunate part of it. If there was fairness from powerful nations like the US and the UK, maybe we wouldn’t be here. But for a nation like Nigeria, it is just in our interest not to allow the current situation over there to further divide us.  So, it should not be a question of taking sides. Rather, we should look at which is the right thing to do and what role we can play by looking at both sides and suggesting solutions rather than allowing it to cause division among us.\\nMany blame Hamas for triggering the war by launching an offensive against Israel. Do you agree with them?\\nI don’t quite agree with them. I know that Hamas has always been very courageous in tackling what they believe to be the problem of their nation but I think Israel should have tried to calm. First, these are oppressed people, these are people who have been driven out of their land and therefore, Israel is using all the might it has to crush Hamas. It is like a show of power, telling them that if they dare wound a single person in Israel, thousands of people in Palestine will be killed for the death of one person. That has been the policy of Israel all along and Hamas also knows this. However, with the way they have been oppressed over the years, watching their parents, brothers, and sisters killed by the Israelis, an average Palestinian is not even afraid to die because they believe that they are doing it because of what they believe to be the fair action in protection of their nation. It is very difficult to blame Hamas because they believe they are fighting for a just cause.\\nIt takes a lot of courage to challenge someone who has tyranny in their blood. Just like Hamas believes that whatever it takes at least, the whole world would know that they have fought for a just cause; they don’t want to surrender simply like that, they know and are well aware that Israel is powerful and also has very powerful support but they believe that whatever it costs them, it is a worthy cause that they are fighting.\\nRelated News\\nGaza in blackout as Israel-Hamas war intensifies\\nNigeria calls for humanitarian ceasefire in Israel-Hamas war\\nIsrael conducts overnight 'targeted raid' in Gaza- Army\\nDo you think Israel’s armed response to the attacks by Hamas in terms of the casualties was appropriate?\\nIt is certainly not humane, that is what I’m saying. If Israel had an iota of humane thinking, honestly, they would not just be willing to destroy thousands of people like that because a few people were provoked like they said, compared to the harm they have caused the people of Palestine for many years now. If Hamas is to be blamed that they are wrong for fighting a stronger enemy whom they shouldn’t be fighting, Israel’s response has been completely inhumane. If there’s any iota of humanity in Israel, they would not just go ahead to destroy thousands of people against a few people who were destroyed on their part. It is a pity but I just pray that both sides will find a way to ensure that there’ll be no further casualties. The more unfortunate part of it is that the poorer people, the weak people like children, women, and elderly people, who are already suffering are the ones who get killed.\\nWhat is your reaction to the US president’s decision to support Israel?\\nIsrael has this courage all along because it knows that it has support from nations of the world that are strong. If the powerful countries in the world had some kind of human feelings, they would have seen that what should have been done is to have the issues resolved because they have the power to resolve it if they don’t give their entire might to one side against the other. The might of world powers behind Israel is giving it the audacity to continue committing war crimes against humanity and it is unfortunate.\\nSome people believe that the United States is supporting Israel because of Israel’s nuclear might. What is you’re your opinion on that?\\nCertainly so, but unfortunately, that is the kind of situation we find ourselves in the world now. It is the survival of the most aggressive. Once they know that you have something that can destroy the rest of the world, they support you. But unfortunately, a nation like Israel would not mind using it if that is what it takes to maintain its strength. It is very unfortunate.\\nHow will you assess the intervention of the United Nations in the war?\\nThe UN has not been doing enough if we are being honest. The essence of having a body like the UN is to ensure that no nation is oppressed, but unfortunately, the powers of countries like the United States in the UN itself have made it very difficult to see the UN doing the right thing. The UN isn’t making any positive impact presently and that is because America and some other nations who are supporting Israel have a strong voice there. Therefore, it’ll be difficult for the UN to come to a kind of arbitration that will be in the interest of all concerned.\\nSome days ago, the Chinese government moved six warships to the Middle East over fear that the Israel-Hamas war could spread to other parts of the world. Do you think this ongoing war could lead to a third world war?\\n I pray it doesn’t. Yes, people are saying so but I’m fervently praying that it doesn’t.\\nThe war has already claimed thousands of lives, including women and children. What do you think is the lasting solution to this armed conflict?\\nPeople may not like it but I think we just have to keep praying. A single person like me cannot say that this is what the UN should do. We can only suggest and continue to pray that Almighty Allah come to our rescue and save the innocent ones. Many people in my age bracket didn’t witness any world war but we know what it is and we have read about the calamities that the two world wars brought but I pray that there won’t be a third one resulting from this development. May God come to our rescue.\\nMany people believe that the lasting solution should be Israel allowing Palestinians to have control over the land they share. Do you agree?\\nYes, that was what I meant in the beginning when I said that the two nations should have been able to reach a kind of compromise that would not see either of them as an absolute loser or as an absolute winner. If the UN can convince them to follow that rule and reach a compromise, then it would be good for both. Nations supporting Israel should appeal to them to reach a compromise and nations supporting Palestine should also appeal to them to reach a compromise to preserve and protect the innocent lives of civilians that are being lost to this war and for peace to reign, ultimately.\\nWhat do you think are the implications of the war continuing for a long time?\\nThe implication of the war continuing for a long time is that there would be no rest for the whole world. We have started hearing about a third world war and how can that be looming in our heads and we will have peace of mind? For us to have peace of mind, we should all find a way to have a lasting solution to this rather than absolute support for one side. I believe that the implications of the war will be very grievous if it continues this way, but the world has to come together to find a solution.$2.5bn fraud: AGF writes UK, requests Diezani’s extraditionNigeria may become another Venezuela if inflation is not controlled – EkpoI avoided polygamy because of bitter experience – 87-year-old retired principalAgony in luxury: Sorry tales of Lagos, Ogun rich landlords displaced by floodN2.8bn contract: Bala-Usman replies Amaechi, says ex-minister's claim falseEl-Classico: Bellingham’s worldie, late winner end Barca’s unbeaten startReign of terror: Bandits hold northerners by jugular, spread deaths, traumatise womenCops who killed my son cracked jokes when family petitioned police –WidowAtiku’s 16-year failed attempts at presidency</td>\n",
       "    </tr>\n",
       "    <tr>\n",
       "      <th>9</th>\n",
       "      <td>Nigeria’s future bleak without restructuring – Afenifere, Ohanaeze, others</td>\n",
       "      <td>By \\nGodfrey George</td>\n",
       "      <td>28th October 2023</td>\n",
       "      <td>Leaders and elders of the South-East, South-West, South-South, and Middle Belt regions under the aegis of the Southern and Middle Belt Leaders’ Forum have said the country belongs to all citizens irrespective of their ethnic representation and political affiliation.\\nIt also added that the Federal Government must restructure the country and enthrone true federalism as was originally entrenched in the 1960 and 1963 constitutions.\\nThe group added, “Without restructuring, the future of Nigeria and democracy remain bleak and must, therefore, be carried out immediately.”\\nThis was made known in a communiqué released on Friday after their national meeting held in Abuja on Thursday; a copy of which was sent to our correspondent.\\nThe SMBLF was represented by leaders of the pan-Yoruba socio-cultural organisation, Afenifere; the apex Igbo socio-cultural organisation, Ohanaeze Ndigbo Worldwide; the Pan Niger Delta Forum and the Middle Belt Forum.\\nRelated News\\nUS supports 18,000 MSMEs to access $244m\\nNigeria has over two million unregistered pharmaceutical outlets, says PSN\\nRashidi Yekini@60: 12 things to know about the late ‘goalsfather’\\nAccording to the group, certain sections of the country have been continually marginalised in the number of states, local governments and even in the appointments to the Federal Executive Council.\\nIt noted that the calls by the South-East leaders to be “appropriately represented on the Federal Executive Council similar to other geo-political zones” should be heeded.\\nThe SMBLF also advised the FG to take urgent steps to release the leader of the Indigenous People of Biafra, Nnamdi Kanu, adding that it would promote peace and security in the South-East.\\nThe meeting which was chaired by its leader, Chief Edwin Clark, had in attendance several national leaders including the leader of Afenifere, Chief Ayo Adebanjo; President-General of Ohanaeze,  Chief Emmanuel Iwuanyanwu; President, MBF, Dr Pogu Bitrus; and, National Chairman, PANDEF,  Senator Emmanuel Ibok-Essien, amongst others.$2.5bn fraud: AGF writes UK, requests Diezani’s extraditionNigeria may become another Venezuela if inflation is not controlled – EkpoI avoided polygamy because of bitter experience – 87-year-old retired principalAgony in luxury: Sorry tales of Lagos, Ogun rich landlords displaced by floodN2.8bn contract: Bala-Usman replies Amaechi, says ex-minister's claim falseEl-Classico: Bellingham’s worldie, late winner end Barca’s unbeaten startReign of terror: Bandits hold northerners by jugular, spread deaths, traumatise womenCops who killed my son cracked jokes when family petitioned police –WidowAtiku’s 16-year failed attempts at presidency</td>\n",
       "    </tr>\n",
       "  </tbody>\n",
       "</table>\n",
       "</div>"
      ],
      "text/plain": [
       "                                                                              headline  \\\n",
       "1  Nigeria should stand for the truth in Israel-Hamas war – MUSWEN Executive Secretary   \n",
       "9           Nigeria’s future bleak without restructuring – Afenifere, Ohanaeze, others   \n",
       "\n",
       "                 author          post_date  \\\n",
       "1  By \\nFarida Mohammed  29th October 2023   \n",
       "9   By \\nGodfrey George  28th October 2023   \n",
       "\n",
       "                                                                                                                                                                                                                                                                                                                                                                                                                                                                                                                                                                                                                                                                                                                                                                                                                                                                                                                                                                                                                                                                                                                                                                                                                                                                                                                                                                                                                                                                                                                                                                                                                                                                                                                                                                                                                                                                                                                                                                                                                                                                                                                                                                                                                                                                                                                                                                                                                                                                                                                                                                                                                                                                                                                                                                                                                                                                                                                                                                                                                                                                                                                                                                                                                                                                                                                                                                                                                                                                                                                                                                                                                                                                                                                                                                                                                                                                                                                                                                                                                                                                                                                                                                                                                                                                                                                                                                                                                                                                                                                                                                                                                                                                                                                                                                                                                                                                                                                                                                                                                                                                                                                                                                                                                                                                                                                                                                                                                                                                                                                                                                                                                                                                                                                                                                                                                                                                                                                                                                                                                                                                                                                                                                                                                                                                                                                                                                                                                                                                                                                                                                                                                                                                                                                                                                                                                                                                                                                                                                                                                                                                                                                                                                                                                                                                                                                                                                                                                                                                                                                                                                                                                                                                                                                                                                                                                                                                                                                                                                                                                                                                                                                                                                                                                                                                                                                                                                                                                                                                                                                                                                                                                                                                                                                                                                                                                                                                                                                                                                                                                                                                                                                                                                                                                                                                                                                                                                                                                                                                                                                                                                                                                                                                                                                                                                                                                                                                                                                                                                                                                                                                                                                                                                                                                                                                                                                                                                                                                                                                                                                                                                                                                                                                                                                                                                                                                                                                                                                                                                                                                                                                                                                                                                                                                                                                                                                                                                                                                                                                                                                                                                                                                                                                                                                                                                                                                                                                                                                                                                                                                                                                                                                                                                                                                                                                                                                                                                                                                                                                                                                                                                                                                                                                                                                                                                                                                                                                                                                                                                                                                                                                                                                                                                                                                                                                                                                                                                                                                                                                                                                                                                                                                                                                                                 Content  \n",
       "1  Executive Secretary and Chief Executive Officer, Muslim Ummah of South West Nigeria, an arm of the Nigeria Supreme Council for Islamic Affairs, Prof Muslih Yahya, talks to FATTEH HAMID about the Israel-Hamas war and its implications\\nWhat is your take on the ongoing war between Israel and Hamas?\\nWell, I can talk as a person but not on behalf of the NSCIA or MUSWEN because that is an organisation bigger than an individual and would require different inputs. However, as a person and in the absence of that, it is a pity that there’s something like this going on because the history of the Israeli and Palestinian war is a long one dating back to the time that the British government wanted to secure a place for the Jews who are believed to be people without a home. Some parts of Palestine, which was part of the areas the British could rule at that time, was seen as a place that could be given to the Jews to establish what they could call a homeland and that was where this war started. That was when people who were there came out to say that they would not watch while their ancestral home was given to a stranger. Also, the history of the Jews is widely known as people who are all over the place and are everywhere without a nation that they can call their own, thus, that was what they wanted to establish in Palestine.\\nI had the privilege of studying in Damascus in the early 1970s and I was a witness of the Arab-Israeli war that happened around 1971 or thereabout. Therefore, I know that it has been very bloody between the Israelis and the Palestinians. This war, however, has turned Palestinians into refugees without a homeland across the world. There are refugees in Egypt, refugees in Syria, refugees in Lebanon, and everywhere that they are, Palestinians are like refugees and therefore, the Palestinians have never had rest since the establishment of the State of Israel in Palestine. It has been terrible.\\nWhat are the issues behind the war that are important for Nigerians to know?\\nIncidentally, whether we like it or not, the war has some religious undertones and that affects us as Nigerians. However, to make things clear, Palestinians are not only Muslims, it is just like every other country out there. There are Muslims among them and there are Christians among them. However, beyond this and from the humanitarian perspective, it is not fair to send people out of their homelands or turn them into some kind of second-class citizens. In fact, if Israelis had their way, there wouldn’t have been a nation called Palestine again, they want the whole place to belong to Israel which is what the Palestinians do not accept.\\nAs a nation, it is completely unfair to Palestinians for them to be turned into refugees. At this point, nations should call for a ceasefire and they should see how this can be resolved in such a way that nobody would be at a loss. The Israelis should not see themselves as lords over Palestinians and the Palestinians should also not see themselves as people who want to throw the Israelis to the sea as the Israelis would say. I would hope that we could resolve the issue in such a way that the Jews will survive as humans that they are and the Muslims and Christians of Palestine would also survive and not be seen as inferior.\\nMany Nigerians are divided over who to support between the warring parties. Who should Nigeria lend support to and why?\\nNobody likes aggression. Incidentally, people will be divided as far as religion is concerned and you know that many Muslims will support the Palestinians first because it is the cause of a people being oppressed and pursued away from their land, and as Muslims, we would want to be on their side. Also, the Qur’an taught us that we should not let the hatred of certain people blind us from the truth, and in fairness, I would want to say that Nigeria should be in support of one side but at least, we have to be on the side of truth to ensure that Palestinians are not treated badly or do not suffer because some people have invaded their nation.\\nAt this point, I think it is up to the nations of the world to come together and see how they can resolve the war by seeing what both sides can do to ensure that one side does not suffer unfairly.\\nDo you agree that public support for Israel and Hamas or Palestine can further deepen the religious division in the country and jeopardise peace in Nigeria?\\nIt is not impossible. It is not impossible if we don’t look at it dispassionately from the point of view of the human angle. If we look at it, we would agree that we should be on the side of truth, on the side of fairness, and on the side of justice. For the Hamas, a body like that rose because of the need to defend their nation, there is the need to defend their citizen and there is the need for them to defend their homeland from people who just want to oppress them. This was what gave birth to a body like Hamas and that is why I said earlier that there is no other way than having a common ground. Look at the arguments of both sides and see how we can please them.\\nUnfortunately, the kind of support countries like the United States of America, the United Kingdom, and Europe, in general, are giving Israel is making it very difficult to have fair play; that is the unfortunate part of it. If there was fairness from powerful nations like the US and the UK, maybe we wouldn’t be here. But for a nation like Nigeria, it is just in our interest not to allow the current situation over there to further divide us.  So, it should not be a question of taking sides. Rather, we should look at which is the right thing to do and what role we can play by looking at both sides and suggesting solutions rather than allowing it to cause division among us.\\nMany blame Hamas for triggering the war by launching an offensive against Israel. Do you agree with them?\\nI don’t quite agree with them. I know that Hamas has always been very courageous in tackling what they believe to be the problem of their nation but I think Israel should have tried to calm. First, these are oppressed people, these are people who have been driven out of their land and therefore, Israel is using all the might it has to crush Hamas. It is like a show of power, telling them that if they dare wound a single person in Israel, thousands of people in Palestine will be killed for the death of one person. That has been the policy of Israel all along and Hamas also knows this. However, with the way they have been oppressed over the years, watching their parents, brothers, and sisters killed by the Israelis, an average Palestinian is not even afraid to die because they believe that they are doing it because of what they believe to be the fair action in protection of their nation. It is very difficult to blame Hamas because they believe they are fighting for a just cause.\\nIt takes a lot of courage to challenge someone who has tyranny in their blood. Just like Hamas believes that whatever it takes at least, the whole world would know that they have fought for a just cause; they don’t want to surrender simply like that, they know and are well aware that Israel is powerful and also has very powerful support but they believe that whatever it costs them, it is a worthy cause that they are fighting.\\nRelated News\\nGaza in blackout as Israel-Hamas war intensifies\\nNigeria calls for humanitarian ceasefire in Israel-Hamas war\\nIsrael conducts overnight 'targeted raid' in Gaza- Army\\nDo you think Israel’s armed response to the attacks by Hamas in terms of the casualties was appropriate?\\nIt is certainly not humane, that is what I’m saying. If Israel had an iota of humane thinking, honestly, they would not just be willing to destroy thousands of people like that because a few people were provoked like they said, compared to the harm they have caused the people of Palestine for many years now. If Hamas is to be blamed that they are wrong for fighting a stronger enemy whom they shouldn’t be fighting, Israel’s response has been completely inhumane. If there’s any iota of humanity in Israel, they would not just go ahead to destroy thousands of people against a few people who were destroyed on their part. It is a pity but I just pray that both sides will find a way to ensure that there’ll be no further casualties. The more unfortunate part of it is that the poorer people, the weak people like children, women, and elderly people, who are already suffering are the ones who get killed.\\nWhat is your reaction to the US president’s decision to support Israel?\\nIsrael has this courage all along because it knows that it has support from nations of the world that are strong. If the powerful countries in the world had some kind of human feelings, they would have seen that what should have been done is to have the issues resolved because they have the power to resolve it if they don’t give their entire might to one side against the other. The might of world powers behind Israel is giving it the audacity to continue committing war crimes against humanity and it is unfortunate.\\nSome people believe that the United States is supporting Israel because of Israel’s nuclear might. What is you’re your opinion on that?\\nCertainly so, but unfortunately, that is the kind of situation we find ourselves in the world now. It is the survival of the most aggressive. Once they know that you have something that can destroy the rest of the world, they support you. But unfortunately, a nation like Israel would not mind using it if that is what it takes to maintain its strength. It is very unfortunate.\\nHow will you assess the intervention of the United Nations in the war?\\nThe UN has not been doing enough if we are being honest. The essence of having a body like the UN is to ensure that no nation is oppressed, but unfortunately, the powers of countries like the United States in the UN itself have made it very difficult to see the UN doing the right thing. The UN isn’t making any positive impact presently and that is because America and some other nations who are supporting Israel have a strong voice there. Therefore, it’ll be difficult for the UN to come to a kind of arbitration that will be in the interest of all concerned.\\nSome days ago, the Chinese government moved six warships to the Middle East over fear that the Israel-Hamas war could spread to other parts of the world. Do you think this ongoing war could lead to a third world war?\\n I pray it doesn’t. Yes, people are saying so but I’m fervently praying that it doesn’t.\\nThe war has already claimed thousands of lives, including women and children. What do you think is the lasting solution to this armed conflict?\\nPeople may not like it but I think we just have to keep praying. A single person like me cannot say that this is what the UN should do. We can only suggest and continue to pray that Almighty Allah come to our rescue and save the innocent ones. Many people in my age bracket didn’t witness any world war but we know what it is and we have read about the calamities that the two world wars brought but I pray that there won’t be a third one resulting from this development. May God come to our rescue.\\nMany people believe that the lasting solution should be Israel allowing Palestinians to have control over the land they share. Do you agree?\\nYes, that was what I meant in the beginning when I said that the two nations should have been able to reach a kind of compromise that would not see either of them as an absolute loser or as an absolute winner. If the UN can convince them to follow that rule and reach a compromise, then it would be good for both. Nations supporting Israel should appeal to them to reach a compromise and nations supporting Palestine should also appeal to them to reach a compromise to preserve and protect the innocent lives of civilians that are being lost to this war and for peace to reign, ultimately.\\nWhat do you think are the implications of the war continuing for a long time?\\nThe implication of the war continuing for a long time is that there would be no rest for the whole world. We have started hearing about a third world war and how can that be looming in our heads and we will have peace of mind? For us to have peace of mind, we should all find a way to have a lasting solution to this rather than absolute support for one side. I believe that the implications of the war will be very grievous if it continues this way, but the world has to come together to find a solution.$2.5bn fraud: AGF writes UK, requests Diezani’s extraditionNigeria may become another Venezuela if inflation is not controlled – EkpoI avoided polygamy because of bitter experience – 87-year-old retired principalAgony in luxury: Sorry tales of Lagos, Ogun rich landlords displaced by floodN2.8bn contract: Bala-Usman replies Amaechi, says ex-minister's claim falseEl-Classico: Bellingham’s worldie, late winner end Barca’s unbeaten startReign of terror: Bandits hold northerners by jugular, spread deaths, traumatise womenCops who killed my son cracked jokes when family petitioned police –WidowAtiku’s 16-year failed attempts at presidency  \n",
       "9                                                                                                                                                                                                                                                                                                                                                                                                                                                                                                                                                                                                                                                                                                                                                                                                                                                                                                                                                                                                                                                                                                                                                                                                                                                                                                                                                                                                                                                                                                                                                                                                                                                                                                                                                                                                                                                                                                                                                                                                                                                                                                                                                                                                                                                                                                                                                                                                                                                                                                                                                                                                                                                                                                                                                                                                                                                                                                                                                                                                                                                                                                                                                                                                                                                                                                                                                                                                                                                                                                                                                                                                                                                                                                                                                                                                                                                                                                                                                                                                                                                                                                                                                                                                                                                                                                                                                                                                                                                                                                                                                                                                                                                                                                                                                                                                                                                                                                                                                                                                                                                                                                                                                                                                                                                                                                                                                                                                                                                                                                                                                                                                                                                                                                                                                                                                                                                                                                                                                                                                                                                                                                                                                                                                                                                                                                                                                                                                                                                                                                                                                                                                                                                                                                                                                                                                                                                                                                                                                                                                                                                                                                                                                                                                                                                                                                                                                                                                                                                                                                                                                                                                                                                                                                                                                                                                                                                                                                                                                                                                                                                                                                                                                                                                                                                                                                                                                                                                                                                                                                                                                                                                                                                                                                                                                                                                                                                                                                                                                                                                                                                                                                                                                                                                                                                                                                                                                                                                                                                                                                                                                                                                                                                                                                                                                                                                                                                                                                                                                                                                                                                                                                                                                                                                                                                                                                                                                                                                                                                                                                                                                                                                                                                                                                                                                                                                                                                                                                           Leaders and elders of the South-East, South-West, South-South, and Middle Belt regions under the aegis of the Southern and Middle Belt Leaders’ Forum have said the country belongs to all citizens irrespective of their ethnic representation and political affiliation.\\nIt also added that the Federal Government must restructure the country and enthrone true federalism as was originally entrenched in the 1960 and 1963 constitutions.\\nThe group added, “Without restructuring, the future of Nigeria and democracy remain bleak and must, therefore, be carried out immediately.”\\nThis was made known in a communiqué released on Friday after their national meeting held in Abuja on Thursday; a copy of which was sent to our correspondent.\\nThe SMBLF was represented by leaders of the pan-Yoruba socio-cultural organisation, Afenifere; the apex Igbo socio-cultural organisation, Ohanaeze Ndigbo Worldwide; the Pan Niger Delta Forum and the Middle Belt Forum.\\nRelated News\\nUS supports 18,000 MSMEs to access $244m\\nNigeria has over two million unregistered pharmaceutical outlets, says PSN\\nRashidi Yekini@60: 12 things to know about the late ‘goalsfather’\\nAccording to the group, certain sections of the country have been continually marginalised in the number of states, local governments and even in the appointments to the Federal Executive Council.\\nIt noted that the calls by the South-East leaders to be “appropriately represented on the Federal Executive Council similar to other geo-political zones” should be heeded.\\nThe SMBLF also advised the FG to take urgent steps to release the leader of the Indigenous People of Biafra, Nnamdi Kanu, adding that it would promote peace and security in the South-East.\\nThe meeting which was chaired by its leader, Chief Edwin Clark, had in attendance several national leaders including the leader of Afenifere, Chief Ayo Adebanjo; President-General of Ohanaeze,  Chief Emmanuel Iwuanyanwu; President, MBF, Dr Pogu Bitrus; and, National Chairman, PANDEF,  Senator Emmanuel Ibok-Essien, amongst others.$2.5bn fraud: AGF writes UK, requests Diezani’s extraditionNigeria may become another Venezuela if inflation is not controlled – EkpoI avoided polygamy because of bitter experience – 87-year-old retired principalAgony in luxury: Sorry tales of Lagos, Ogun rich landlords displaced by floodN2.8bn contract: Bala-Usman replies Amaechi, says ex-minister's claim falseEl-Classico: Bellingham’s worldie, late winner end Barca’s unbeaten startReign of terror: Bandits hold northerners by jugular, spread deaths, traumatise womenCops who killed my son cracked jokes when family petitioned police –WidowAtiku’s 16-year failed attempts at presidency  "
      ]
     },
     "execution_count": 10,
     "metadata": {},
     "output_type": "execute_result"
    }
   ],
   "source": [
    "df.sample(2)"
   ]
  },
  {
   "cell_type": "code",
   "execution_count": null,
   "id": "47bc879e",
   "metadata": {},
   "outputs": [],
   "source": []
  },
  {
   "cell_type": "code",
   "execution_count": 11,
   "id": "b6746e16",
   "metadata": {},
   "outputs": [],
   "source": [
    "# storing data in to excel file\n",
    "df.to_excel('Punchng_articles.xlsx', index=False)"
   ]
  },
  {
   "cell_type": "code",
   "execution_count": 12,
   "id": "670ec0ca",
   "metadata": {},
   "outputs": [],
   "source": [
    "# closing web driver\n",
    "driver.quit()"
   ]
  }
 ],
 "metadata": {
  "kernelspec": {
   "display_name": "Python 3 (ipykernel)",
   "language": "python",
   "name": "python3"
  },
  "language_info": {
   "codemirror_mode": {
    "name": "ipython",
    "version": 3
   },
   "file_extension": ".py",
   "mimetype": "text/x-python",
   "name": "python",
   "nbconvert_exporter": "python",
   "pygments_lexer": "ipython3",
   "version": "3.9.13"
  }
 },
 "nbformat": 4,
 "nbformat_minor": 5
}
